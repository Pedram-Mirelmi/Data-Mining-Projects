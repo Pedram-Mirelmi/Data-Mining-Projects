{
 "cells": [
  {
   "cell_type": "markdown",
   "metadata": {},
   "source": [
    "## First we read the data just as told"
   ]
  },
  {
   "cell_type": "code",
   "execution_count": 286,
   "metadata": {},
   "outputs": [
    {
     "data": {
      "text/plain": [
       "array(['Colin Powell', 'George W Bush'], dtype='<U13')"
      ]
     },
     "execution_count": 286,
     "metadata": {},
     "output_type": "execute_result"
    }
   ],
   "source": [
    "from sklearn.datasets import fetch_lfw_people\n",
    "lfw_people = fetch_lfw_people(min_faces_per_person=150, resize=0.4)\n",
    "X = lfw_people.data\n",
    "Y = lfw_people.target\n",
    "lfw_people.target_names"
   ]
  },
  {
   "cell_type": "markdown",
   "metadata": {},
   "source": [
    "### Then we take a look the data "
   ]
  },
  {
   "cell_type": "code",
   "execution_count": 287,
   "metadata": {},
   "outputs": [
    {
     "data": {
      "text/plain": [
       "(766, 50, 37)"
      ]
     },
     "execution_count": 287,
     "metadata": {},
     "output_type": "execute_result"
    }
   ],
   "source": [
    "lfw_people.images.shape"
   ]
  },
  {
   "cell_type": "code",
   "execution_count": 283,
   "metadata": {},
   "outputs": [
    {
     "name": "stdout",
     "output_type": "stream",
     "text": [
      "x_train shape: (574, 1850)\n",
      "x_test shape: (192, 1850)\n",
      "y_train shape: (574,)\n",
      "y_test shape: (192,)\n"
     ]
    }
   ],
   "source": [
    "from sklearn.model_selection import train_test_split\n",
    "x_train, x_test, y_train, y_test = train_test_split(X, Y, test_size=0.25, shuffle=True)\n",
    "print(f\"x_train shape: {x_train.shape}\")\n",
    "print(f\"x_test shape: {x_test.shape}\")\n",
    "print(f\"y_train shape: {y_train.shape}\")\n",
    "print(f\"y_test shape: {y_test.shape}\")\n"
   ]
  },
  {
   "cell_type": "markdown",
   "metadata": {},
   "source": [
    "### Let's see some examples of our dataset: "
   ]
  },
  {
   "cell_type": "code",
   "execution_count": 288,
   "metadata": {},
   "outputs": [
    {
     "data": {
      "text/plain": [
       "<matplotlib.image.AxesImage at 0x7f1849b324c0>"
      ]
     },
     "execution_count": 288,
     "metadata": {},
     "output_type": "execute_result"
    },
    {
     "data": {
      "image/png": "[encoded data removed]",
      "text/plain": [
       "<Figure size 432x288 with 1 Axes>"
      ]
     },
     "metadata": {
      "needs_background": "light"
     },
     "output_type": "display_data"
    }
   ],
   "source": [
    "import matplotlib.pyplot as plt\n",
    "plt.imshow(x_train[0].reshape(50, 37))"
   ]
  },
  {
   "cell_type": "code",
   "execution_count": 289,
   "metadata": {},
   "outputs": [
    {
     "data": {
      "text/plain": [
       "<matplotlib.image.AxesImage at 0x7f18499b47f0>"
      ]
     },
     "execution_count": 289,
     "metadata": {},
     "output_type": "execute_result"
    },
    {
     "data": {
      "image/png": "[encoded data removed]",
      "text/plain": [
       "<Figure size 432x288 with 1 Axes>"
      ]
     },
     "metadata": {
      "needs_background": "light"
     },
     "output_type": "display_data"
    }
   ],
   "source": [
    "plt.imshow(x_test[0].reshape(50, 37))"
   ]
  },
  {
   "cell_type": "markdown",
   "metadata": {},
   "source": [
    "### The actual data looks like:"
   ]
  },
  {
   "cell_type": "code",
   "execution_count": 290,
   "metadata": {},
   "outputs": [
    {
     "data": {
      "text/plain": [
       "array([[0.01699346, 0.0248366 , 0.05751634, ..., 0.1267974 , 0.09281046,\n",
       "        0.08627451],\n",
       "       [0.00130719, 0.        , 0.        , ..., 0.        , 0.        ,\n",
       "        0.        ],\n",
       "       [0.00392157, 0.00392157, 0.0130719 , ..., 0.00915033, 0.        ,\n",
       "        0.        ],\n",
       "       ...,\n",
       "       [0.        , 0.        , 0.        , ..., 0.075817  , 0.075817  ,\n",
       "        0.07189543],\n",
       "       [0.3934641 , 0.4993464 , 0.5751634 , ..., 0.10849673, 0.15816994,\n",
       "        0.23006536],\n",
       "       [0.        , 0.        , 0.        , ..., 0.        , 0.        ,\n",
       "        0.        ]], dtype=float32)"
      ]
     },
     "execution_count": 290,
     "metadata": {},
     "output_type": "execute_result"
    }
   ],
   "source": [
    "x_train"
   ]
  },
  {
   "cell_type": "markdown",
   "metadata": {},
   "source": [
    "#### For a better result; first we normalize the data:"
   ]
  },
  {
   "cell_type": "markdown",
   "metadata": {},
   "source": [
    "##### Pay attention that we first fit over x_train then transform over x_train and x_test"
   ]
  },
  {
   "cell_type": "code",
   "execution_count": 257,
   "metadata": {},
   "outputs": [],
   "source": [
    "from sklearn.preprocessing import StandardScaler\n",
    "scalar = StandardScaler().fit(x_train)\n",
    "x_train = scalar.transform(x_train)\n",
    "x_test = scalar.transform(x_test)"
   ]
  },
  {
   "cell_type": "markdown",
   "metadata": {},
   "source": [
    "### Here we define a function that does ALL the stuff we need!!!\n",
    "#### It gets pca_n_components as the argument and feed it to PCA. Then use it to reduce the number of features. Prints some info. then fit the model over train and test and prints the results and scores. It also plots confusion matrices."
   ]
  },
  {
   "cell_type": "code",
   "execution_count": 258,
   "metadata": {},
   "outputs": [],
   "source": [
    "from sklearn.decomposition import PCA\n",
    "def DoATest(pca_n_components, model):\n",
    "    global x_train, x_test, y_train, y_test\n",
    "    pca = PCA(n_components=pca_n_components).fit(x_train)\n",
    "    pca_applied_x_train = pca.transform(x_train)\n",
    "    pca_applied_x_test = pca.transform(x_test)\n",
    "    print(\"Applied PCA:\")\n",
    "    print(f\"x_train shape: {pca_applied_x_train.shape}\")\n",
    "    print(f\"x_test shape: {pca_applied_x_test.shape}\")\n",
    "\n",
    "    model.fit(pca_applied_x_train, y_train)\n",
    "    print(\"TESTING OVER TRAIN PART OF DATA:\")\n",
    "    print(\"RESULTS OVER Y_TRAIN:\")\n",
    "    report_results(model.predict(pca_applied_x_train), y_train)\n",
    "    plt.show()\n",
    "    \n",
    "    print(\"TESTING OVER TEST PART OF DATA:\")\n",
    "    print(\"REULTS OVER Y_TEST:\")\n",
    "    report_results(model.predict(pca_applied_x_test), y_test)\n",
    "    plt.show()\n",
    "\n",
    "from sklearn.metrics import accuracy_score, confusion_matrix, classification_report \n",
    "import seaborn as sns\n",
    "\n",
    "def report_results(y_predicted, y_true, figure_ax=None):\n",
    "    print(f\"accuracy: {accuracy_score(y_true, y_predicted)}\")\n",
    "    print(classification_report(y_true, y_predicted))\n",
    "    mat = confusion_matrix(y_true, y_predicted)\n",
    "    sns.heatmap(mat, annot=True, ax=figure_ax)\n",
    "    \n",
    "\n"
   ]
  },
  {
   "cell_type": "markdown",
   "metadata": {},
   "source": [
    "### Now all we need to do is to play with the parameters and just call the function we mentioned earlier to find the best parameter set!"
   ]
  },
  {
   "cell_type": "code",
   "execution_count": 271,
   "metadata": {},
   "outputs": [
    {
     "name": "stdout",
     "output_type": "stream",
     "text": [
      "Applied PCA:\n",
      "x_train shape: (574, 200)\n",
      "x_test shape: (192, 200)\n",
      "TESTING OVER TRAIN PART OF DATA:\n",
      "RESULTS OVER Y_TRAIN:\n",
      "accuracy: 1.0\n",
      "              precision    recall  f1-score   support\n",
      "\n",
      "           0       1.00      1.00      1.00       177\n",
      "           1       1.00      1.00      1.00       397\n",
      "\n",
      "    accuracy                           1.00       574\n",
      "   macro avg       1.00      1.00      1.00       574\n",
      "weighted avg       1.00      1.00      1.00       574\n",
      "\n"
     ]
    },
    {
     "data": {
      "image/png": "[encoded data removed]",
      "text/plain": [
       "<Figure size 432x288 with 2 Axes>"
      ]
     },
     "metadata": {
      "needs_background": "light"
     },
     "output_type": "display_data"
    },
    {
     "name": "stdout",
     "output_type": "stream",
     "text": [
      "TESTING OVER TEST PART OF DATA:\n",
      "REULTS OVER Y_TEST:\n",
      "accuracy: 0.953125\n",
      "              precision    recall  f1-score   support\n",
      "\n",
      "           0       0.93      0.92      0.92        59\n",
      "           1       0.96      0.97      0.97       133\n",
      "\n",
      "    accuracy                           0.95       192\n",
      "   macro avg       0.95      0.94      0.94       192\n",
      "weighted avg       0.95      0.95      0.95       192\n",
      "\n"
     ]
    },
    {
     "data": {
      "image/png": "[encoded data removed]",
      "text/plain": [
       "<Figure size 432x288 with 2 Axes>"
      ]
     },
     "metadata": {
      "needs_background": "light"
     },
     "output_type": "display_data"
    }
   ],
   "source": [
    "from sklearn.neural_network import MLPClassifier as MLP\n",
    "DoATest(200, MLP())"
   ]
  },
  {
   "cell_type": "code",
   "execution_count": 270,
   "metadata": {},
   "outputs": [
    {
     "name": "stdout",
     "output_type": "stream",
     "text": [
      "Applied PCA:\n",
      "x_train shape: (574, 150)\n",
      "x_test shape: (192, 150)\n",
      "TESTING OVER TRAIN PART OF DATA:\n",
      "RESULTS OVER Y_TRAIN:\n",
      "accuracy: 1.0\n",
      "              precision    recall  f1-score   support\n",
      "\n",
      "           0       1.00      1.00      1.00       177\n",
      "           1       1.00      1.00      1.00       397\n",
      "\n",
      "    accuracy                           1.00       574\n",
      "   macro avg       1.00      1.00      1.00       574\n",
      "weighted avg       1.00      1.00      1.00       574\n",
      "\n"
     ]
    },
    {
     "data": {
      "image/png": "[encoded data removed]",
      "text/plain": [
       "<Figure size 432x288 with 2 Axes>"
      ]
     },
     "metadata": {
      "needs_background": "light"
     },
     "output_type": "display_data"
    },
    {
     "name": "stdout",
     "output_type": "stream",
     "text": [
      "TESTING OVER TEST PART OF DATA:\n",
      "REULTS OVER Y_TEST:\n",
      "accuracy: 0.953125\n",
      "              precision    recall  f1-score   support\n",
      "\n",
      "           0       0.93      0.92      0.92        59\n",
      "           1       0.96      0.97      0.97       133\n",
      "\n",
      "    accuracy                           0.95       192\n",
      "   macro avg       0.95      0.94      0.94       192\n",
      "weighted avg       0.95      0.95      0.95       192\n",
      "\n"
     ]
    },
    {
     "data": {
      "image/png": "[encoded data removed]",
      "text/plain": [
       "<Figure size 432x288 with 2 Axes>"
      ]
     },
     "metadata": {
      "needs_background": "light"
     },
     "output_type": "display_data"
    }
   ],
   "source": [
    "DoATest(150, MLP())"
   ]
  },
  {
   "cell_type": "code",
   "execution_count": 272,
   "metadata": {},
   "outputs": [
    {
     "name": "stdout",
     "output_type": "stream",
     "text": [
      "Applied PCA:\n",
      "x_train shape: (574, 100)\n",
      "x_test shape: (192, 100)\n",
      "TESTING OVER TRAIN PART OF DATA:\n",
      "RESULTS OVER Y_TRAIN:\n",
      "accuracy: 1.0\n",
      "              precision    recall  f1-score   support\n",
      "\n",
      "           0       1.00      1.00      1.00       177\n",
      "           1       1.00      1.00      1.00       397\n",
      "\n",
      "    accuracy                           1.00       574\n",
      "   macro avg       1.00      1.00      1.00       574\n",
      "weighted avg       1.00      1.00      1.00       574\n",
      "\n"
     ]
    },
    {
     "data": {
      "image/png": "[encoded data removed]",
      "text/plain": [
       "<Figure size 432x288 with 2 Axes>"
      ]
     },
     "metadata": {
      "needs_background": "light"
     },
     "output_type": "display_data"
    },
    {
     "name": "stdout",
     "output_type": "stream",
     "text": [
      "TESTING OVER TEST PART OF DATA:\n",
      "REULTS OVER Y_TEST:\n",
      "accuracy: 0.9375\n",
      "              precision    recall  f1-score   support\n",
      "\n",
      "           0       0.91      0.88      0.90        59\n",
      "           1       0.95      0.96      0.96       133\n",
      "\n",
      "    accuracy                           0.94       192\n",
      "   macro avg       0.93      0.92      0.93       192\n",
      "weighted avg       0.94      0.94      0.94       192\n",
      "\n"
     ]
    },
    {
     "data": {
      "image/png": "[encoded data removed]",
      "text/plain": [
       "<Figure size 432x288 with 2 Axes>"
      ]
     },
     "metadata": {
      "needs_background": "light"
     },
     "output_type": "display_data"
    }
   ],
   "source": [
    "DoATest(100, MLP())"
   ]
  },
  {
   "cell_type": "code",
   "execution_count": 273,
   "metadata": {},
   "outputs": [
    {
     "name": "stdout",
     "output_type": "stream",
     "text": [
      "Applied PCA:\n",
      "x_train shape: (574, 80)\n",
      "x_test shape: (192, 80)\n",
      "TESTING OVER TRAIN PART OF DATA:\n",
      "RESULTS OVER Y_TRAIN:\n",
      "accuracy: 1.0\n",
      "              precision    recall  f1-score   support\n",
      "\n",
      "           0       1.00      1.00      1.00       177\n",
      "           1       1.00      1.00      1.00       397\n",
      "\n",
      "    accuracy                           1.00       574\n",
      "   macro avg       1.00      1.00      1.00       574\n",
      "weighted avg       1.00      1.00      1.00       574\n",
      "\n"
     ]
    },
    {
     "data": {
      "image/png": "[encoded data removed]",
      "text/plain": [
       "<Figure size 432x288 with 2 Axes>"
      ]
     },
     "metadata": {
      "needs_background": "light"
     },
     "output_type": "display_data"
    },
    {
     "name": "stdout",
     "output_type": "stream",
     "text": [
      "TESTING OVER TEST PART OF DATA:\n",
      "REULTS OVER Y_TEST:\n",
      "accuracy: 0.9322916666666666\n",
      "              precision    recall  f1-score   support\n",
      "\n",
      "           0       0.91      0.86      0.89        59\n",
      "           1       0.94      0.96      0.95       133\n",
      "\n",
      "    accuracy                           0.93       192\n",
      "   macro avg       0.93      0.91      0.92       192\n",
      "weighted avg       0.93      0.93      0.93       192\n",
      "\n"
     ]
    },
    {
     "data": {
      "image/png": "[encoded data removed]",
      "text/plain": [
       "<Figure size 432x288 with 2 Axes>"
      ]
     },
     "metadata": {
      "needs_background": "light"
     },
     "output_type": "display_data"
    }
   ],
   "source": [
    "DoATest(80, MLP())"
   ]
  },
  {
   "cell_type": "code",
   "execution_count": 274,
   "metadata": {},
   "outputs": [
    {
     "name": "stdout",
     "output_type": "stream",
     "text": [
      "Applied PCA:\n",
      "x_train shape: (574, 100)\n",
      "x_test shape: (192, 100)\n",
      "TESTING OVER TRAIN PART OF DATA:\n",
      "RESULTS OVER Y_TRAIN:\n",
      "accuracy: 1.0\n",
      "              precision    recall  f1-score   support\n",
      "\n",
      "           0       1.00      1.00      1.00       177\n",
      "           1       1.00      1.00      1.00       397\n",
      "\n",
      "    accuracy                           1.00       574\n",
      "   macro avg       1.00      1.00      1.00       574\n",
      "weighted avg       1.00      1.00      1.00       574\n",
      "\n"
     ]
    },
    {
     "data": {
      "image/png": "[encoded data removed]",
      "text/plain": [
       "<Figure size 432x288 with 2 Axes>"
      ]
     },
     "metadata": {
      "needs_background": "light"
     },
     "output_type": "display_data"
    },
    {
     "name": "stdout",
     "output_type": "stream",
     "text": [
      "TESTING OVER TEST PART OF DATA:\n",
      "REULTS OVER Y_TEST:\n",
      "accuracy: 0.9427083333333334\n",
      "              precision    recall  f1-score   support\n",
      "\n",
      "           0       0.94      0.86      0.90        59\n",
      "           1       0.94      0.98      0.96       133\n",
      "\n",
      "    accuracy                           0.94       192\n",
      "   macro avg       0.94      0.92      0.93       192\n",
      "weighted avg       0.94      0.94      0.94       192\n",
      "\n"
     ]
    },
    {
     "data": {
      "image/png": "[encoded data removed]",
      "text/plain": [
       "<Figure size 432x288 with 2 Axes>"
      ]
     },
     "metadata": {
      "needs_background": "light"
     },
     "output_type": "display_data"
    }
   ],
   "source": [
    "DoATest(100, MLP(max_iter=500))"
   ]
  },
  {
   "cell_type": "code",
   "execution_count": 275,
   "metadata": {},
   "outputs": [
    {
     "name": "stdout",
     "output_type": "stream",
     "text": [
      "Applied PCA:\n",
      "x_train shape: (574, 100)\n",
      "x_test shape: (192, 100)\n",
      "TESTING OVER TRAIN PART OF DATA:\n",
      "RESULTS OVER Y_TRAIN:\n",
      "accuracy: 1.0\n",
      "              precision    recall  f1-score   support\n",
      "\n",
      "           0       1.00      1.00      1.00       177\n",
      "           1       1.00      1.00      1.00       397\n",
      "\n",
      "    accuracy                           1.00       574\n",
      "   macro avg       1.00      1.00      1.00       574\n",
      "weighted avg       1.00      1.00      1.00       574\n",
      "\n"
     ]
    },
    {
     "data": {
      "image/png": "[encoded data removed]",
      "text/plain": [
       "<Figure size 432x288 with 2 Axes>"
      ]
     },
     "metadata": {
      "needs_background": "light"
     },
     "output_type": "display_data"
    },
    {
     "name": "stdout",
     "output_type": "stream",
     "text": [
      "TESTING OVER TEST PART OF DATA:\n",
      "REULTS OVER Y_TEST:\n",
      "accuracy: 0.9375\n",
      "              precision    recall  f1-score   support\n",
      "\n",
      "           0       0.91      0.88      0.90        59\n",
      "           1       0.95      0.96      0.96       133\n",
      "\n",
      "    accuracy                           0.94       192\n",
      "   macro avg       0.93      0.92      0.93       192\n",
      "weighted avg       0.94      0.94      0.94       192\n",
      "\n"
     ]
    },
    {
     "data": {
      "image/png": "[encoded data removed]",
      "text/plain": [
       "<Figure size 432x288 with 2 Axes>"
      ]
     },
     "metadata": {
      "needs_background": "light"
     },
     "output_type": "display_data"
    }
   ],
   "source": [
    "DoATest(100, MLP(max_iter=500, hidden_layer_sizes=(150,)))"
   ]
  },
  {
   "cell_type": "code",
   "execution_count": 276,
   "metadata": {},
   "outputs": [
    {
     "name": "stdout",
     "output_type": "stream",
     "text": [
      "Applied PCA:\n",
      "x_train shape: (574, 100)\n",
      "x_test shape: (192, 100)\n",
      "TESTING OVER TRAIN PART OF DATA:\n",
      "RESULTS OVER Y_TRAIN:\n",
      "accuracy: 1.0\n",
      "              precision    recall  f1-score   support\n",
      "\n",
      "           0       1.00      1.00      1.00       177\n",
      "           1       1.00      1.00      1.00       397\n",
      "\n",
      "    accuracy                           1.00       574\n",
      "   macro avg       1.00      1.00      1.00       574\n",
      "weighted avg       1.00      1.00      1.00       574\n",
      "\n"
     ]
    },
    {
     "data": {
      "image/png": "[encoded data removed]",
      "text/plain": [
       "<Figure size 432x288 with 2 Axes>"
      ]
     },
     "metadata": {
      "needs_background": "light"
     },
     "output_type": "display_data"
    },
    {
     "name": "stdout",
     "output_type": "stream",
     "text": [
      "TESTING OVER TEST PART OF DATA:\n",
      "REULTS OVER Y_TEST:\n",
      "accuracy: 0.9479166666666666\n",
      "              precision    recall  f1-score   support\n",
      "\n",
      "           0       0.92      0.92      0.92        59\n",
      "           1       0.96      0.96      0.96       133\n",
      "\n",
      "    accuracy                           0.95       192\n",
      "   macro avg       0.94      0.94      0.94       192\n",
      "weighted avg       0.95      0.95      0.95       192\n",
      "\n"
     ]
    },
    {
     "data": {
      "image/png": "[encoded data removed]",
      "text/plain": [
       "<Figure size 432x288 with 2 Axes>"
      ]
     },
     "metadata": {
      "needs_background": "light"
     },
     "output_type": "display_data"
    }
   ],
   "source": [
    "DoATest(100, MLP(max_iter=500, hidden_layer_sizes=(150,), activation=\"logistic\"))"
   ]
  },
  {
   "cell_type": "code",
   "execution_count": 277,
   "metadata": {},
   "outputs": [
    {
     "name": "stdout",
     "output_type": "stream",
     "text": [
      "Applied PCA:\n",
      "x_train shape: (574, 100)\n",
      "x_test shape: (192, 100)\n",
      "TESTING OVER TRAIN PART OF DATA:\n",
      "RESULTS OVER Y_TRAIN:\n",
      "accuracy: 0.9895470383275261\n",
      "              precision    recall  f1-score   support\n",
      "\n",
      "           0       1.00      0.97      0.98       177\n",
      "           1       0.99      1.00      0.99       397\n",
      "\n",
      "    accuracy                           0.99       574\n",
      "   macro avg       0.99      0.98      0.99       574\n",
      "weighted avg       0.99      0.99      0.99       574\n",
      "\n"
     ]
    },
    {
     "name": "stderr",
     "output_type": "stream",
     "text": [
      "/home/pedram/.local/lib/python3.8/site-packages/sklearn/neural_network/_multilayer_perceptron.py:702: ConvergenceWarning: Stochastic Optimizer: Maximum iterations (500) reached and the optimization hasn't converged yet.\n",
      "  warnings.warn(\n"
     ]
    },
    {
     "data": {
      "image/png": "[encoded data removed]",
      "text/plain": [
       "<Figure size 432x288 with 2 Axes>"
      ]
     },
     "metadata": {
      "needs_background": "light"
     },
     "output_type": "display_data"
    },
    {
     "name": "stdout",
     "output_type": "stream",
     "text": [
      "TESTING OVER TEST PART OF DATA:\n",
      "REULTS OVER Y_TEST:\n",
      "accuracy: 0.9583333333333334\n",
      "              precision    recall  f1-score   support\n",
      "\n",
      "           0       0.95      0.92      0.93        59\n",
      "           1       0.96      0.98      0.97       133\n",
      "\n",
      "    accuracy                           0.96       192\n",
      "   macro avg       0.96      0.95      0.95       192\n",
      "weighted avg       0.96      0.96      0.96       192\n",
      "\n"
     ]
    },
    {
     "data": {
      "image/png": "[encoded data removed]",
      "text/plain": [
       "<Figure size 432x288 with 2 Axes>"
      ]
     },
     "metadata": {
      "needs_background": "light"
     },
     "output_type": "display_data"
    }
   ],
   "source": [
    "DoATest(100, MLP(max_iter=500, hidden_layer_sizes=(150,), activation=\"logistic\", solver=\"sgd\"))"
   ]
  },
  {
   "cell_type": "code",
   "execution_count": 267,
   "metadata": {},
   "outputs": [
    {
     "name": "stdout",
     "output_type": "stream",
     "text": [
      "Applied PCA:\n",
      "x_train shape: (574, 100)\n",
      "x_test shape: (192, 100)\n",
      "TESTING OVER TRAIN PART OF DATA:\n",
      "RESULTS OVER Y_TRAIN:\n",
      "accuracy: 0.9947735191637631\n",
      "              precision    recall  f1-score   support\n",
      "\n",
      "           0       1.00      0.98      0.99       177\n",
      "           1       0.99      1.00      1.00       397\n",
      "\n",
      "    accuracy                           0.99       574\n",
      "   macro avg       1.00      0.99      0.99       574\n",
      "weighted avg       0.99      0.99      0.99       574\n",
      "\n"
     ]
    },
    {
     "name": "stderr",
     "output_type": "stream",
     "text": [
      "/home/pedram/.local/lib/python3.8/site-packages/sklearn/neural_network/_multilayer_perceptron.py:702: ConvergenceWarning: Stochastic Optimizer: Maximum iterations (700) reached and the optimization hasn't converged yet.\n",
      "  warnings.warn(\n"
     ]
    },
    {
     "data": {
      "image/png": "[encoded data removed]",
      "text/plain": [
       "<Figure size 432x288 with 2 Axes>"
      ]
     },
     "metadata": {
      "needs_background": "light"
     },
     "output_type": "display_data"
    },
    {
     "name": "stdout",
     "output_type": "stream",
     "text": [
      "TESTING OVER TEST PART OF DATA:\n",
      "REULTS OVER Y_TEST:\n",
      "accuracy: 0.96875\n",
      "              precision    recall  f1-score   support\n",
      "\n",
      "           0       0.96      0.93      0.95        59\n",
      "           1       0.97      0.98      0.98       133\n",
      "\n",
      "    accuracy                           0.97       192\n",
      "   macro avg       0.97      0.96      0.96       192\n",
      "weighted avg       0.97      0.97      0.97       192\n",
      "\n"
     ]
    },
    {
     "data": {
      "image/png": "[encoded data removed]",
      "text/plain": [
       "<Figure size 432x288 with 2 Axes>"
      ]
     },
     "metadata": {
      "needs_background": "light"
     },
     "output_type": "display_data"
    }
   ],
   "source": [
    "DoATest(100, MLP(max_iter=700, hidden_layer_sizes=(150,), activation=\"logistic\", solver=\"sgd\"))\n"
   ]
  },
  {
   "cell_type": "markdown",
   "metadata": {},
   "source": [
    "# Perfect!"
   ]
  },
  {
   "cell_type": "markdown",
   "metadata": {},
   "source": [
    "##### The last one is the best indeed! Because at the same time that has a good accuracy(96.87%) on the test data, it has very close accuracy on the train(99.4) which shows us that the model is accurate and ALSO it hasn't overfit! because the accuracy over train and test are pretty close!\n",
    "###### (The earlier tries that the accuracy over train were 100% and accuracy over test was much different the model had overfit)"
   ]
  }
 ],
 "metadata": {
  "interpreter": {
   "hash": "31f2aee4e71d21fbe5cf8b01ff0e069b9275f58929596ceb00d14d90e3e16cd6"
  },
  "kernelspec": {
   "display_name": "Python 3.8.10 64-bit",
   "language": "python",
   "name": "python3"
  },
  "language_info": {
   "codemirror_mode": {
    "name": "ipython",
    "version": 3
   },
   "file_extension": ".py",
   "mimetype": "text/x-python",
   "name": "python",
   "nbconvert_exporter": "python",
   "pygments_lexer": "ipython3",
   "version": "3.8.10"
  },
  "orig_nbformat": 4
 },
 "nbformat": 4,
 "nbformat_minor": 2
}
