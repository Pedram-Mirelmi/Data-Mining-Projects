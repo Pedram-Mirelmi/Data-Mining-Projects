{
 "cells": [
  {
   "cell_type": "markdown",
   "metadata": {},
   "source": [
    "### Importing pandas and reading dataset"
   ]
  },
  {
   "cell_type": "code",
   "execution_count": 1,
   "metadata": {},
   "outputs": [
    {
     "data": {
      "text/html": [
       "<div>\n",
       "<style scoped>\n",
       "    .dataframe tbody tr th:only-of-type {\n",
       "        vertical-align: middle;\n",
       "    }\n",
       "\n",
       "    .dataframe tbody tr th {\n",
       "        vertical-align: top;\n",
       "    }\n",
       "\n",
       "    .dataframe thead th {\n",
       "        text-align: right;\n",
       "    }\n",
       "</style>\n",
       "<table border=\"1\" class=\"dataframe\">\n",
       "  <thead>\n",
       "    <tr style=\"text-align: right;\">\n",
       "      <th></th>\n",
       "      <th>Unnamed: 0</th>\n",
       "      <th>Unnamed: 1</th>\n",
       "      <th>Baseline Features</th>\n",
       "      <th>Unnamed: 3</th>\n",
       "      <th>Unnamed: 4</th>\n",
       "      <th>Unnamed: 5</th>\n",
       "      <th>Unnamed: 6</th>\n",
       "      <th>Unnamed: 7</th>\n",
       "      <th>Unnamed: 8</th>\n",
       "      <th>Unnamed: 9</th>\n",
       "      <th>...</th>\n",
       "      <th>Unnamed: 745</th>\n",
       "      <th>Unnamed: 746</th>\n",
       "      <th>Unnamed: 747</th>\n",
       "      <th>Unnamed: 748</th>\n",
       "      <th>Unnamed: 749</th>\n",
       "      <th>Unnamed: 750</th>\n",
       "      <th>Unnamed: 751</th>\n",
       "      <th>Unnamed: 752</th>\n",
       "      <th>Unnamed: 753</th>\n",
       "      <th>Unnamed: 754</th>\n",
       "    </tr>\n",
       "  </thead>\n",
       "  <tbody>\n",
       "    <tr>\n",
       "      <th>0</th>\n",
       "      <td>id</td>\n",
       "      <td>gender</td>\n",
       "      <td>PPE</td>\n",
       "      <td>DFA</td>\n",
       "      <td>RPDE</td>\n",
       "      <td>numPulses</td>\n",
       "      <td>numPeriodsPulses</td>\n",
       "      <td>meanPeriodPulses</td>\n",
       "      <td>stdDevPeriodPulses</td>\n",
       "      <td>locPctJitter</td>\n",
       "      <td>...</td>\n",
       "      <td>tqwt_kurtosisValue_dec_28</td>\n",
       "      <td>tqwt_kurtosisValue_dec_29</td>\n",
       "      <td>tqwt_kurtosisValue_dec_30</td>\n",
       "      <td>tqwt_kurtosisValue_dec_31</td>\n",
       "      <td>tqwt_kurtosisValue_dec_32</td>\n",
       "      <td>tqwt_kurtosisValue_dec_33</td>\n",
       "      <td>tqwt_kurtosisValue_dec_34</td>\n",
       "      <td>tqwt_kurtosisValue_dec_35</td>\n",
       "      <td>tqwt_kurtosisValue_dec_36</td>\n",
       "      <td>class</td>\n",
       "    </tr>\n",
       "    <tr>\n",
       "      <th>1</th>\n",
       "      <td>0</td>\n",
       "      <td>1</td>\n",
       "      <td>0.85247</td>\n",
       "      <td>0.71826</td>\n",
       "      <td>0.57227</td>\n",
       "      <td>240</td>\n",
       "      <td>239</td>\n",
       "      <td>0.00806353</td>\n",
       "      <td>8.68E-05</td>\n",
       "      <td>0.00218</td>\n",
       "      <td>...</td>\n",
       "      <td>1.562</td>\n",
       "      <td>2.6445</td>\n",
       "      <td>3.8686</td>\n",
       "      <td>4.2105</td>\n",
       "      <td>5.1221</td>\n",
       "      <td>4.4625</td>\n",
       "      <td>2.6202</td>\n",
       "      <td>3.0004</td>\n",
       "      <td>18.9405</td>\n",
       "      <td>1</td>\n",
       "    </tr>\n",
       "    <tr>\n",
       "      <th>2</th>\n",
       "      <td>0</td>\n",
       "      <td>1</td>\n",
       "      <td>0.76686</td>\n",
       "      <td>0.69481</td>\n",
       "      <td>0.53966</td>\n",
       "      <td>234</td>\n",
       "      <td>233</td>\n",
       "      <td>0.008258256</td>\n",
       "      <td>7.31E-05</td>\n",
       "      <td>0.00195</td>\n",
       "      <td>...</td>\n",
       "      <td>1.5589</td>\n",
       "      <td>3.6107</td>\n",
       "      <td>23.5155</td>\n",
       "      <td>14.1962</td>\n",
       "      <td>11.0261</td>\n",
       "      <td>9.5082</td>\n",
       "      <td>6.5245</td>\n",
       "      <td>6.3431</td>\n",
       "      <td>45.178</td>\n",
       "      <td>1</td>\n",
       "    </tr>\n",
       "    <tr>\n",
       "      <th>3</th>\n",
       "      <td>0</td>\n",
       "      <td>1</td>\n",
       "      <td>0.85083</td>\n",
       "      <td>0.67604</td>\n",
       "      <td>0.58982</td>\n",
       "      <td>232</td>\n",
       "      <td>231</td>\n",
       "      <td>0.00833959</td>\n",
       "      <td>6.04E-05</td>\n",
       "      <td>0.00176</td>\n",
       "      <td>...</td>\n",
       "      <td>1.5643</td>\n",
       "      <td>2.3308</td>\n",
       "      <td>9.4959</td>\n",
       "      <td>10.7458</td>\n",
       "      <td>11.0177</td>\n",
       "      <td>4.8066</td>\n",
       "      <td>2.9199</td>\n",
       "      <td>3.1495</td>\n",
       "      <td>4.7666</td>\n",
       "      <td>1</td>\n",
       "    </tr>\n",
       "    <tr>\n",
       "      <th>4</th>\n",
       "      <td>1</td>\n",
       "      <td>0</td>\n",
       "      <td>0.41121</td>\n",
       "      <td>0.79672</td>\n",
       "      <td>0.59257</td>\n",
       "      <td>178</td>\n",
       "      <td>177</td>\n",
       "      <td>0.010857733</td>\n",
       "      <td>0.000182739</td>\n",
       "      <td>0.00419</td>\n",
       "      <td>...</td>\n",
       "      <td>3.7805</td>\n",
       "      <td>3.5664</td>\n",
       "      <td>5.2558</td>\n",
       "      <td>14.0403</td>\n",
       "      <td>4.2235</td>\n",
       "      <td>4.6857</td>\n",
       "      <td>4.846</td>\n",
       "      <td>6.265</td>\n",
       "      <td>4.0603</td>\n",
       "      <td>1</td>\n",
       "    </tr>\n",
       "    <tr>\n",
       "      <th>...</th>\n",
       "      <td>...</td>\n",
       "      <td>...</td>\n",
       "      <td>...</td>\n",
       "      <td>...</td>\n",
       "      <td>...</td>\n",
       "      <td>...</td>\n",
       "      <td>...</td>\n",
       "      <td>...</td>\n",
       "      <td>...</td>\n",
       "      <td>...</td>\n",
       "      <td>...</td>\n",
       "      <td>...</td>\n",
       "      <td>...</td>\n",
       "      <td>...</td>\n",
       "      <td>...</td>\n",
       "      <td>...</td>\n",
       "      <td>...</td>\n",
       "      <td>...</td>\n",
       "      <td>...</td>\n",
       "      <td>...</td>\n",
       "      <td>...</td>\n",
       "    </tr>\n",
       "    <tr>\n",
       "      <th>752</th>\n",
       "      <td>250</td>\n",
       "      <td>0</td>\n",
       "      <td>0.80903</td>\n",
       "      <td>0.56355</td>\n",
       "      <td>0.28385</td>\n",
       "      <td>417</td>\n",
       "      <td>416</td>\n",
       "      <td>0.004626942</td>\n",
       "      <td>5.22E-05</td>\n",
       "      <td>0.00064</td>\n",
       "      <td>...</td>\n",
       "      <td>3.0706</td>\n",
       "      <td>3.019</td>\n",
       "      <td>3.1212</td>\n",
       "      <td>2.4921</td>\n",
       "      <td>3.5844</td>\n",
       "      <td>3.54</td>\n",
       "      <td>3.3805</td>\n",
       "      <td>3.2003</td>\n",
       "      <td>6.8671</td>\n",
       "      <td>0</td>\n",
       "    </tr>\n",
       "    <tr>\n",
       "      <th>753</th>\n",
       "      <td>250</td>\n",
       "      <td>0</td>\n",
       "      <td>0.16084</td>\n",
       "      <td>0.56499</td>\n",
       "      <td>0.59194</td>\n",
       "      <td>415</td>\n",
       "      <td>413</td>\n",
       "      <td>0.004549703</td>\n",
       "      <td>0.000219994</td>\n",
       "      <td>0.00143</td>\n",
       "      <td>...</td>\n",
       "      <td>1.9704</td>\n",
       "      <td>1.7451</td>\n",
       "      <td>1.8277</td>\n",
       "      <td>2.4976</td>\n",
       "      <td>5.2981</td>\n",
       "      <td>4.2616</td>\n",
       "      <td>6.3042</td>\n",
       "      <td>10.9058</td>\n",
       "      <td>28.417</td>\n",
       "      <td>0</td>\n",
       "    </tr>\n",
       "    <tr>\n",
       "      <th>754</th>\n",
       "      <td>251</td>\n",
       "      <td>0</td>\n",
       "      <td>0.88389</td>\n",
       "      <td>0.72335</td>\n",
       "      <td>0.46815</td>\n",
       "      <td>381</td>\n",
       "      <td>380</td>\n",
       "      <td>0.005069271</td>\n",
       "      <td>0.000102654</td>\n",
       "      <td>0.00076</td>\n",
       "      <td>...</td>\n",
       "      <td>51.5607</td>\n",
       "      <td>44.4641</td>\n",
       "      <td>26.1586</td>\n",
       "      <td>6.3076</td>\n",
       "      <td>2.8601</td>\n",
       "      <td>2.5361</td>\n",
       "      <td>3.5377</td>\n",
       "      <td>3.3545</td>\n",
       "      <td>5.0424</td>\n",
       "      <td>0</td>\n",
       "    </tr>\n",
       "    <tr>\n",
       "      <th>755</th>\n",
       "      <td>251</td>\n",
       "      <td>0</td>\n",
       "      <td>0.83782</td>\n",
       "      <td>0.7489</td>\n",
       "      <td>0.49823</td>\n",
       "      <td>340</td>\n",
       "      <td>339</td>\n",
       "      <td>0.005679019</td>\n",
       "      <td>5.51E-05</td>\n",
       "      <td>0.00092</td>\n",
       "      <td>...</td>\n",
       "      <td>19.1607</td>\n",
       "      <td>12.8312</td>\n",
       "      <td>8.9434</td>\n",
       "      <td>2.2044</td>\n",
       "      <td>1.9496</td>\n",
       "      <td>1.9664</td>\n",
       "      <td>2.6801</td>\n",
       "      <td>2.8332</td>\n",
       "      <td>3.7131</td>\n",
       "      <td>0</td>\n",
       "    </tr>\n",
       "    <tr>\n",
       "      <th>756</th>\n",
       "      <td>251</td>\n",
       "      <td>0</td>\n",
       "      <td>0.81304</td>\n",
       "      <td>0.76471</td>\n",
       "      <td>0.46374</td>\n",
       "      <td>340</td>\n",
       "      <td>339</td>\n",
       "      <td>0.005675776</td>\n",
       "      <td>3.71E-05</td>\n",
       "      <td>0.00078</td>\n",
       "      <td>...</td>\n",
       "      <td>62.9927</td>\n",
       "      <td>21.8152</td>\n",
       "      <td>9.2457</td>\n",
       "      <td>4.8555</td>\n",
       "      <td>3.0551</td>\n",
       "      <td>3.0415</td>\n",
       "      <td>4.0116</td>\n",
       "      <td>2.6217</td>\n",
       "      <td>3.1527</td>\n",
       "      <td>0</td>\n",
       "    </tr>\n",
       "  </tbody>\n",
       "</table>\n",
       "<p>757 rows × 755 columns</p>\n",
       "</div>"
      ],
      "text/plain": [
       "    Unnamed: 0 Unnamed: 1 Baseline Features Unnamed: 3 Unnamed: 4 Unnamed: 5  \\\n",
       "0           id     gender               PPE        DFA       RPDE  numPulses   \n",
       "1            0          1           0.85247    0.71826    0.57227        240   \n",
       "2            0          1           0.76686    0.69481    0.53966        234   \n",
       "3            0          1           0.85083    0.67604    0.58982        232   \n",
       "4            1          0           0.41121    0.79672    0.59257        178   \n",
       "..         ...        ...               ...        ...        ...        ...   \n",
       "752        250          0           0.80903    0.56355    0.28385        417   \n",
       "753        250          0           0.16084    0.56499    0.59194        415   \n",
       "754        251          0           0.88389    0.72335    0.46815        381   \n",
       "755        251          0           0.83782     0.7489    0.49823        340   \n",
       "756        251          0           0.81304    0.76471    0.46374        340   \n",
       "\n",
       "           Unnamed: 6        Unnamed: 7          Unnamed: 8    Unnamed: 9  \\\n",
       "0    numPeriodsPulses  meanPeriodPulses  stdDevPeriodPulses  locPctJitter   \n",
       "1                 239        0.00806353            8.68E-05       0.00218   \n",
       "2                 233       0.008258256            7.31E-05       0.00195   \n",
       "3                 231        0.00833959            6.04E-05       0.00176   \n",
       "4                 177       0.010857733         0.000182739       0.00419   \n",
       "..                ...               ...                 ...           ...   \n",
       "752               416       0.004626942            5.22E-05       0.00064   \n",
       "753               413       0.004549703         0.000219994       0.00143   \n",
       "754               380       0.005069271         0.000102654       0.00076   \n",
       "755               339       0.005679019            5.51E-05       0.00092   \n",
       "756               339       0.005675776            3.71E-05       0.00078   \n",
       "\n",
       "     ...               Unnamed: 745               Unnamed: 746  \\\n",
       "0    ...  tqwt_kurtosisValue_dec_28  tqwt_kurtosisValue_dec_29   \n",
       "1    ...                      1.562                     2.6445   \n",
       "2    ...                     1.5589                     3.6107   \n",
       "3    ...                     1.5643                     2.3308   \n",
       "4    ...                     3.7805                     3.5664   \n",
       "..   ...                        ...                        ...   \n",
       "752  ...                     3.0706                      3.019   \n",
       "753  ...                     1.9704                     1.7451   \n",
       "754  ...                    51.5607                    44.4641   \n",
       "755  ...                    19.1607                    12.8312   \n",
       "756  ...                    62.9927                    21.8152   \n",
       "\n",
       "                  Unnamed: 747               Unnamed: 748  \\\n",
       "0    tqwt_kurtosisValue_dec_30  tqwt_kurtosisValue_dec_31   \n",
       "1                       3.8686                     4.2105   \n",
       "2                      23.5155                    14.1962   \n",
       "3                       9.4959                    10.7458   \n",
       "4                       5.2558                    14.0403   \n",
       "..                         ...                        ...   \n",
       "752                     3.1212                     2.4921   \n",
       "753                     1.8277                     2.4976   \n",
       "754                    26.1586                     6.3076   \n",
       "755                     8.9434                     2.2044   \n",
       "756                     9.2457                     4.8555   \n",
       "\n",
       "                  Unnamed: 749               Unnamed: 750  \\\n",
       "0    tqwt_kurtosisValue_dec_32  tqwt_kurtosisValue_dec_33   \n",
       "1                       5.1221                     4.4625   \n",
       "2                      11.0261                     9.5082   \n",
       "3                      11.0177                     4.8066   \n",
       "4                       4.2235                     4.6857   \n",
       "..                         ...                        ...   \n",
       "752                     3.5844                       3.54   \n",
       "753                     5.2981                     4.2616   \n",
       "754                     2.8601                     2.5361   \n",
       "755                     1.9496                     1.9664   \n",
       "756                     3.0551                     3.0415   \n",
       "\n",
       "                  Unnamed: 751               Unnamed: 752  \\\n",
       "0    tqwt_kurtosisValue_dec_34  tqwt_kurtosisValue_dec_35   \n",
       "1                       2.6202                     3.0004   \n",
       "2                       6.5245                     6.3431   \n",
       "3                       2.9199                     3.1495   \n",
       "4                        4.846                      6.265   \n",
       "..                         ...                        ...   \n",
       "752                     3.3805                     3.2003   \n",
       "753                     6.3042                    10.9058   \n",
       "754                     3.5377                     3.3545   \n",
       "755                     2.6801                     2.8332   \n",
       "756                     4.0116                     2.6217   \n",
       "\n",
       "                  Unnamed: 753 Unnamed: 754  \n",
       "0    tqwt_kurtosisValue_dec_36        class  \n",
       "1                      18.9405            1  \n",
       "2                       45.178            1  \n",
       "3                       4.7666            1  \n",
       "4                       4.0603            1  \n",
       "..                         ...          ...  \n",
       "752                     6.8671            0  \n",
       "753                     28.417            0  \n",
       "754                     5.0424            0  \n",
       "755                     3.7131            0  \n",
       "756                     3.1527            0  \n",
       "\n",
       "[757 rows x 755 columns]"
      ]
     },
     "execution_count": 1,
     "metadata": {},
     "output_type": "execute_result"
    }
   ],
   "source": [
    "import pandas as pd\n",
    "CLASS = \"class\" \n",
    "\n",
    "df = pd.read_csv(\"./pd_speech_features.csv\") # i deleted the first row in the file. it contained nothing useful!\n",
    "df "
   ]
  },
  {
   "cell_type": "markdown",
   "metadata": {},
   "source": [
    "### Correcting dataframe header"
   ]
  },
  {
   "cell_type": "code",
   "execution_count": 2,
   "metadata": {},
   "outputs": [],
   "source": [
    "headers = df.iloc[0]\n",
    "df  = pd.DataFrame(df.values[1:], columns=headers)"
   ]
  },
  {
   "cell_type": "markdown",
   "metadata": {},
   "source": [
    "## Analyzing Dataset"
   ]
  },
  {
   "cell_type": "code",
   "execution_count": 3,
   "metadata": {},
   "outputs": [
    {
     "name": "stdout",
     "output_type": "stream",
     "text": [
      "<class 'pandas.core.frame.DataFrame'>\n",
      "RangeIndex: 756 entries, 0 to 755\n",
      "Columns: 755 entries, id to class\n",
      "dtypes: object(755)\n",
      "memory usage: 4.4+ MB\n"
     ]
    }
   ],
   "source": [
    "df.info()"
   ]
  },
  {
   "cell_type": "code",
   "execution_count": 4,
   "metadata": {},
   "outputs": [
    {
     "data": {
      "text/html": [
       "<div>\n",
       "<style scoped>\n",
       "    .dataframe tbody tr th:only-of-type {\n",
       "        vertical-align: middle;\n",
       "    }\n",
       "\n",
       "    .dataframe tbody tr th {\n",
       "        vertical-align: top;\n",
       "    }\n",
       "\n",
       "    .dataframe thead th {\n",
       "        text-align: right;\n",
       "    }\n",
       "</style>\n",
       "<table border=\"1\" class=\"dataframe\">\n",
       "  <thead>\n",
       "    <tr style=\"text-align: right;\">\n",
       "      <th></th>\n",
       "      <th>id</th>\n",
       "      <th>gender</th>\n",
       "      <th>PPE</th>\n",
       "      <th>DFA</th>\n",
       "      <th>RPDE</th>\n",
       "      <th>numPulses</th>\n",
       "      <th>numPeriodsPulses</th>\n",
       "      <th>meanPeriodPulses</th>\n",
       "      <th>stdDevPeriodPulses</th>\n",
       "      <th>locPctJitter</th>\n",
       "      <th>...</th>\n",
       "      <th>tqwt_kurtosisValue_dec_28</th>\n",
       "      <th>tqwt_kurtosisValue_dec_29</th>\n",
       "      <th>tqwt_kurtosisValue_dec_30</th>\n",
       "      <th>tqwt_kurtosisValue_dec_31</th>\n",
       "      <th>tqwt_kurtosisValue_dec_32</th>\n",
       "      <th>tqwt_kurtosisValue_dec_33</th>\n",
       "      <th>tqwt_kurtosisValue_dec_34</th>\n",
       "      <th>tqwt_kurtosisValue_dec_35</th>\n",
       "      <th>tqwt_kurtosisValue_dec_36</th>\n",
       "      <th>class</th>\n",
       "    </tr>\n",
       "  </thead>\n",
       "  <tbody>\n",
       "    <tr>\n",
       "      <th>count</th>\n",
       "      <td>756</td>\n",
       "      <td>756</td>\n",
       "      <td>756</td>\n",
       "      <td>756</td>\n",
       "      <td>756</td>\n",
       "      <td>756</td>\n",
       "      <td>756</td>\n",
       "      <td>756</td>\n",
       "      <td>756</td>\n",
       "      <td>756</td>\n",
       "      <td>...</td>\n",
       "      <td>756</td>\n",
       "      <td>756</td>\n",
       "      <td>756</td>\n",
       "      <td>756</td>\n",
       "      <td>756</td>\n",
       "      <td>756</td>\n",
       "      <td>756</td>\n",
       "      <td>756</td>\n",
       "      <td>756</td>\n",
       "      <td>756</td>\n",
       "    </tr>\n",
       "    <tr>\n",
       "      <th>unique</th>\n",
       "      <td>252</td>\n",
       "      <td>2</td>\n",
       "      <td>740</td>\n",
       "      <td>745</td>\n",
       "      <td>748</td>\n",
       "      <td>315</td>\n",
       "      <td>319</td>\n",
       "      <td>755</td>\n",
       "      <td>646</td>\n",
       "      <td>358</td>\n",
       "      <td>...</td>\n",
       "      <td>749</td>\n",
       "      <td>755</td>\n",
       "      <td>752</td>\n",
       "      <td>753</td>\n",
       "      <td>749</td>\n",
       "      <td>752</td>\n",
       "      <td>753</td>\n",
       "      <td>753</td>\n",
       "      <td>754</td>\n",
       "      <td>2</td>\n",
       "    </tr>\n",
       "    <tr>\n",
       "      <th>top</th>\n",
       "      <td>0</td>\n",
       "      <td>1</td>\n",
       "      <td>0.82273</td>\n",
       "      <td>0.72248</td>\n",
       "      <td>0.62128</td>\n",
       "      <td>237</td>\n",
       "      <td>236</td>\n",
       "      <td>0.006004477</td>\n",
       "      <td>7.17E-05</td>\n",
       "      <td>0.00076</td>\n",
       "      <td>...</td>\n",
       "      <td>1.7726</td>\n",
       "      <td>4.0251</td>\n",
       "      <td>2.8454</td>\n",
       "      <td>4.2105</td>\n",
       "      <td>2.6829</td>\n",
       "      <td>3.1144</td>\n",
       "      <td>12.595</td>\n",
       "      <td>4.2391</td>\n",
       "      <td>3.2941</td>\n",
       "      <td>1</td>\n",
       "    </tr>\n",
       "    <tr>\n",
       "      <th>freq</th>\n",
       "      <td>3</td>\n",
       "      <td>390</td>\n",
       "      <td>3</td>\n",
       "      <td>2</td>\n",
       "      <td>2</td>\n",
       "      <td>9</td>\n",
       "      <td>8</td>\n",
       "      <td>2</td>\n",
       "      <td>3</td>\n",
       "      <td>9</td>\n",
       "      <td>...</td>\n",
       "      <td>2</td>\n",
       "      <td>2</td>\n",
       "      <td>2</td>\n",
       "      <td>2</td>\n",
       "      <td>2</td>\n",
       "      <td>2</td>\n",
       "      <td>2</td>\n",
       "      <td>2</td>\n",
       "      <td>2</td>\n",
       "      <td>564</td>\n",
       "    </tr>\n",
       "  </tbody>\n",
       "</table>\n",
       "<p>4 rows × 755 columns</p>\n",
       "</div>"
      ],
      "text/plain": [
       "0        id gender      PPE      DFA     RPDE numPulses numPeriodsPulses  \\\n",
       "count   756    756      756      756      756       756              756   \n",
       "unique  252      2      740      745      748       315              319   \n",
       "top       0      1  0.82273  0.72248  0.62128       237              236   \n",
       "freq      3    390        3        2        2         9                8   \n",
       "\n",
       "0      meanPeriodPulses stdDevPeriodPulses locPctJitter  ...  \\\n",
       "count               756                756          756  ...   \n",
       "unique              755                646          358  ...   \n",
       "top         0.006004477           7.17E-05      0.00076  ...   \n",
       "freq                  2                  3            9  ...   \n",
       "\n",
       "0      tqwt_kurtosisValue_dec_28 tqwt_kurtosisValue_dec_29  \\\n",
       "count                        756                       756   \n",
       "unique                       749                       755   \n",
       "top                       1.7726                    4.0251   \n",
       "freq                           2                         2   \n",
       "\n",
       "0      tqwt_kurtosisValue_dec_30 tqwt_kurtosisValue_dec_31  \\\n",
       "count                        756                       756   \n",
       "unique                       752                       753   \n",
       "top                       2.8454                    4.2105   \n",
       "freq                           2                         2   \n",
       "\n",
       "0      tqwt_kurtosisValue_dec_32 tqwt_kurtosisValue_dec_33  \\\n",
       "count                        756                       756   \n",
       "unique                       749                       752   \n",
       "top                       2.6829                    3.1144   \n",
       "freq                           2                         2   \n",
       "\n",
       "0      tqwt_kurtosisValue_dec_34 tqwt_kurtosisValue_dec_35  \\\n",
       "count                        756                       756   \n",
       "unique                       753                       753   \n",
       "top                       12.595                    4.2391   \n",
       "freq                           2                         2   \n",
       "\n",
       "0      tqwt_kurtosisValue_dec_36 class  \n",
       "count                        756   756  \n",
       "unique                       754     2  \n",
       "top                       3.2941     1  \n",
       "freq                           2   564  \n",
       "\n",
       "[4 rows x 755 columns]"
      ]
     },
     "execution_count": 4,
     "metadata": {},
     "output_type": "execute_result"
    }
   ],
   "source": [
    "df.describe()"
   ]
  },
  {
   "cell_type": "code",
   "execution_count": 5,
   "metadata": {},
   "outputs": [
    {
     "data": {
      "text/plain": [
       "1    564\n",
       "0    192\n",
       "Name: class, dtype: int64"
      ]
     },
     "execution_count": 5,
     "metadata": {},
     "output_type": "execute_result"
    }
   ],
   "source": [
    "df[CLASS].value_counts()"
   ]
  },
  {
   "cell_type": "code",
   "execution_count": 6,
   "metadata": {},
   "outputs": [
    {
     "data": {
      "text/plain": [
       "0\n",
       "id                           0\n",
       "gender                       0\n",
       "PPE                          0\n",
       "DFA                          0\n",
       "RPDE                         0\n",
       "                            ..\n",
       "tqwt_kurtosisValue_dec_33    0\n",
       "tqwt_kurtosisValue_dec_34    0\n",
       "tqwt_kurtosisValue_dec_35    0\n",
       "tqwt_kurtosisValue_dec_36    0\n",
       "class                        0\n",
       "Length: 755, dtype: int64"
      ]
     },
     "execution_count": 6,
     "metadata": {},
     "output_type": "execute_result"
    }
   ],
   "source": [
    "df.isnull().sum()"
   ]
  },
  {
   "cell_type": "code",
   "execution_count": 7,
   "metadata": {},
   "outputs": [
    {
     "data": {
      "text/plain": [
       "0"
      ]
     },
     "execution_count": 7,
     "metadata": {},
     "output_type": "execute_result"
    }
   ],
   "source": [
    "df.isnull().sum().sum()"
   ]
  },
  {
   "cell_type": "markdown",
   "metadata": {},
   "source": [
    "## Preprocessing"
   ]
  },
  {
   "cell_type": "code",
   "execution_count": 8,
   "metadata": {},
   "outputs": [
    {
     "data": {
      "text/html": [
       "<div>\n",
       "<style scoped>\n",
       "    .dataframe tbody tr th:only-of-type {\n",
       "        vertical-align: middle;\n",
       "    }\n",
       "\n",
       "    .dataframe tbody tr th {\n",
       "        vertical-align: top;\n",
       "    }\n",
       "\n",
       "    .dataframe thead th {\n",
       "        text-align: right;\n",
       "    }\n",
       "</style>\n",
       "<table border=\"1\" class=\"dataframe\">\n",
       "  <thead>\n",
       "    <tr style=\"text-align: right;\">\n",
       "      <th></th>\n",
       "      <th>id</th>\n",
       "      <th>gender</th>\n",
       "      <th>PPE</th>\n",
       "      <th>DFA</th>\n",
       "      <th>RPDE</th>\n",
       "      <th>numPulses</th>\n",
       "      <th>numPeriodsPulses</th>\n",
       "      <th>meanPeriodPulses</th>\n",
       "      <th>stdDevPeriodPulses</th>\n",
       "      <th>locPctJitter</th>\n",
       "      <th>...</th>\n",
       "      <th>tqwt_kurtosisValue_dec_28</th>\n",
       "      <th>tqwt_kurtosisValue_dec_29</th>\n",
       "      <th>tqwt_kurtosisValue_dec_30</th>\n",
       "      <th>tqwt_kurtosisValue_dec_31</th>\n",
       "      <th>tqwt_kurtosisValue_dec_32</th>\n",
       "      <th>tqwt_kurtosisValue_dec_33</th>\n",
       "      <th>tqwt_kurtosisValue_dec_34</th>\n",
       "      <th>tqwt_kurtosisValue_dec_35</th>\n",
       "      <th>tqwt_kurtosisValue_dec_36</th>\n",
       "      <th>class</th>\n",
       "    </tr>\n",
       "  </thead>\n",
       "  <tbody>\n",
       "    <tr>\n",
       "      <th>0</th>\n",
       "      <td>0.0</td>\n",
       "      <td>1.0</td>\n",
       "      <td>0.936278</td>\n",
       "      <td>0.56531</td>\n",
       "      <td>0.583</td>\n",
       "      <td>0.262983</td>\n",
       "      <td>0.263274</td>\n",
       "      <td>0.548552</td>\n",
       "      <td>0.021947</td>\n",
       "      <td>0.071532</td>\n",
       "      <td>...</td>\n",
       "      <td>0.000219</td>\n",
       "      <td>0.005515</td>\n",
       "      <td>0.019054</td>\n",
       "      <td>0.02452</td>\n",
       "      <td>0.039777</td>\n",
       "      <td>0.039411</td>\n",
       "      <td>0.012611</td>\n",
       "      <td>0.01879</td>\n",
       "      <td>0.107598</td>\n",
       "      <td>1</td>\n",
       "    </tr>\n",
       "    <tr>\n",
       "      <th>1</th>\n",
       "      <td>0.0</td>\n",
       "      <td>1.0</td>\n",
       "      <td>0.837434</td>\n",
       "      <td>0.489455</td>\n",
       "      <td>0.537514</td>\n",
       "      <td>0.256354</td>\n",
       "      <td>0.256637</td>\n",
       "      <td>0.566485</td>\n",
       "      <td>0.018001</td>\n",
       "      <td>0.063181</td>\n",
       "      <td>...</td>\n",
       "      <td>0.000206</td>\n",
       "      <td>0.010303</td>\n",
       "      <td>0.182833</td>\n",
       "      <td>0.12392</td>\n",
       "      <td>0.110245</td>\n",
       "      <td>0.109584</td>\n",
       "      <td>0.077525</td>\n",
       "      <td>0.078923</td>\n",
       "      <td>0.277905</td>\n",
       "      <td>1</td>\n",
       "    </tr>\n",
       "    <tr>\n",
       "      <th>2</th>\n",
       "      <td>0.0</td>\n",
       "      <td>1.0</td>\n",
       "      <td>0.934385</td>\n",
       "      <td>0.428738</td>\n",
       "      <td>0.607479</td>\n",
       "      <td>0.254144</td>\n",
       "      <td>0.254425</td>\n",
       "      <td>0.573975</td>\n",
       "      <td>0.014344</td>\n",
       "      <td>0.056282</td>\n",
       "      <td>...</td>\n",
       "      <td>0.000229</td>\n",
       "      <td>0.00396</td>\n",
       "      <td>0.065964</td>\n",
       "      <td>0.089574</td>\n",
       "      <td>0.110145</td>\n",
       "      <td>0.044197</td>\n",
       "      <td>0.017594</td>\n",
       "      <td>0.021472</td>\n",
       "      <td>0.015595</td>\n",
       "      <td>1</td>\n",
       "    </tr>\n",
       "    <tr>\n",
       "      <th>3</th>\n",
       "      <td>0.003984</td>\n",
       "      <td>0.0</td>\n",
       "      <td>0.426804</td>\n",
       "      <td>0.819111</td>\n",
       "      <td>0.611315</td>\n",
       "      <td>0.194475</td>\n",
       "      <td>0.19469</td>\n",
       "      <td>0.805881</td>\n",
       "      <td>0.04958</td>\n",
       "      <td>0.144517</td>\n",
       "      <td>...</td>\n",
       "      <td>0.00953</td>\n",
       "      <td>0.010084</td>\n",
       "      <td>0.030618</td>\n",
       "      <td>0.122368</td>\n",
       "      <td>0.029052</td>\n",
       "      <td>0.042515</td>\n",
       "      <td>0.049618</td>\n",
       "      <td>0.077518</td>\n",
       "      <td>0.011011</td>\n",
       "      <td>1</td>\n",
       "    </tr>\n",
       "    <tr>\n",
       "      <th>4</th>\n",
       "      <td>0.003984</td>\n",
       "      <td>0.0</td>\n",
       "      <td>0.330615</td>\n",
       "      <td>0.822669</td>\n",
       "      <td>0.524431</td>\n",
       "      <td>0.258564</td>\n",
       "      <td>0.25885</td>\n",
       "      <td>0.557581</td>\n",
       "      <td>0.765643</td>\n",
       "      <td>0.186638</td>\n",
       "      <td>...</td>\n",
       "      <td>0.019569</td>\n",
       "      <td>0.021359</td>\n",
       "      <td>0.037492</td>\n",
       "      <td>0.039965</td>\n",
       "      <td>0.071521</td>\n",
       "      <td>0.139915</td>\n",
       "      <td>0.105554</td>\n",
       "      <td>0.055767</td>\n",
       "      <td>0.024357</td>\n",
       "      <td>1</td>\n",
       "    </tr>\n",
       "    <tr>\n",
       "      <th>...</th>\n",
       "      <td>...</td>\n",
       "      <td>...</td>\n",
       "      <td>...</td>\n",
       "      <td>...</td>\n",
       "      <td>...</td>\n",
       "      <td>...</td>\n",
       "      <td>...</td>\n",
       "      <td>...</td>\n",
       "      <td>...</td>\n",
       "      <td>...</td>\n",
       "      <td>...</td>\n",
       "      <td>...</td>\n",
       "      <td>...</td>\n",
       "      <td>...</td>\n",
       "      <td>...</td>\n",
       "      <td>...</td>\n",
       "      <td>...</td>\n",
       "      <td>...</td>\n",
       "      <td>...</td>\n",
       "      <td>...</td>\n",
       "      <td>...</td>\n",
       "    </tr>\n",
       "    <tr>\n",
       "      <th>751</th>\n",
       "      <td>0.996016</td>\n",
       "      <td>0.0</td>\n",
       "      <td>0.886123</td>\n",
       "      <td>0.064857</td>\n",
       "      <td>0.180701</td>\n",
       "      <td>0.458564</td>\n",
       "      <td>0.459071</td>\n",
       "      <td>0.232063</td>\n",
       "      <td>0.011982</td>\n",
       "      <td>0.015614</td>\n",
       "      <td>...</td>\n",
       "      <td>0.00655</td>\n",
       "      <td>0.007371</td>\n",
       "      <td>0.012823</td>\n",
       "      <td>0.007415</td>\n",
       "      <td>0.021423</td>\n",
       "      <td>0.026581</td>\n",
       "      <td>0.025252</td>\n",
       "      <td>0.022386</td>\n",
       "      <td>0.02923</td>\n",
       "      <td>0</td>\n",
       "    </tr>\n",
       "    <tr>\n",
       "      <th>752</th>\n",
       "      <td>0.996016</td>\n",
       "      <td>0.0</td>\n",
       "      <td>0.13773</td>\n",
       "      <td>0.069515</td>\n",
       "      <td>0.610436</td>\n",
       "      <td>0.456354</td>\n",
       "      <td>0.455752</td>\n",
       "      <td>0.22495</td>\n",
       "      <td>0.06031</td>\n",
       "      <td>0.044299</td>\n",
       "      <td>...</td>\n",
       "      <td>0.001933</td>\n",
       "      <td>0.001058</td>\n",
       "      <td>0.002041</td>\n",
       "      <td>0.00747</td>\n",
       "      <td>0.041878</td>\n",
       "      <td>0.036617</td>\n",
       "      <td>0.073862</td>\n",
       "      <td>0.161003</td>\n",
       "      <td>0.16911</td>\n",
       "      <td>0</td>\n",
       "    </tr>\n",
       "    <tr>\n",
       "      <th>753</th>\n",
       "      <td>1.0</td>\n",
       "      <td>0.0</td>\n",
       "      <td>0.972555</td>\n",
       "      <td>0.581775</td>\n",
       "      <td>0.437769</td>\n",
       "      <td>0.418785</td>\n",
       "      <td>0.419248</td>\n",
       "      <td>0.272799</td>\n",
       "      <td>0.026514</td>\n",
       "      <td>0.019971</td>\n",
       "      <td>...</td>\n",
       "      <td>0.210052</td>\n",
       "      <td>0.212769</td>\n",
       "      <td>0.204866</td>\n",
       "      <td>0.045395</td>\n",
       "      <td>0.012778</td>\n",
       "      <td>0.01262</td>\n",
       "      <td>0.027866</td>\n",
       "      <td>0.02516</td>\n",
       "      <td>0.017385</td>\n",
       "      <td>0</td>\n",
       "    </tr>\n",
       "    <tr>\n",
       "      <th>754</th>\n",
       "      <td>1.0</td>\n",
       "      <td>0.0</td>\n",
       "      <td>0.919363</td>\n",
       "      <td>0.664424</td>\n",
       "      <td>0.479726</td>\n",
       "      <td>0.373481</td>\n",
       "      <td>0.373894</td>\n",
       "      <td>0.328953</td>\n",
       "      <td>0.012817</td>\n",
       "      <td>0.025781</td>\n",
       "      <td>...</td>\n",
       "      <td>0.074077</td>\n",
       "      <td>0.055999</td>\n",
       "      <td>0.061358</td>\n",
       "      <td>0.004551</td>\n",
       "      <td>0.001911</td>\n",
       "      <td>0.004697</td>\n",
       "      <td>0.013607</td>\n",
       "      <td>0.015782</td>\n",
       "      <td>0.008757</td>\n",
       "      <td>0</td>\n",
       "    </tr>\n",
       "    <tr>\n",
       "      <th>755</th>\n",
       "      <td>1.0</td>\n",
       "      <td>0.0</td>\n",
       "      <td>0.890753</td>\n",
       "      <td>0.715566</td>\n",
       "      <td>0.431618</td>\n",
       "      <td>0.373481</td>\n",
       "      <td>0.373894</td>\n",
       "      <td>0.328654</td>\n",
       "      <td>0.007633</td>\n",
       "      <td>0.020697</td>\n",
       "      <td>...</td>\n",
       "      <td>0.258029</td>\n",
       "      <td>0.100523</td>\n",
       "      <td>0.063878</td>\n",
       "      <td>0.030941</td>\n",
       "      <td>0.015106</td>\n",
       "      <td>0.019649</td>\n",
       "      <td>0.035745</td>\n",
       "      <td>0.011977</td>\n",
       "      <td>0.005119</td>\n",
       "      <td>0</td>\n",
       "    </tr>\n",
       "  </tbody>\n",
       "</table>\n",
       "<p>756 rows × 755 columns</p>\n",
       "</div>"
      ],
      "text/plain": [
       "0          id gender       PPE       DFA      RPDE numPulses numPeriodsPulses  \\\n",
       "0         0.0    1.0  0.936278   0.56531     0.583  0.262983         0.263274   \n",
       "1         0.0    1.0  0.837434  0.489455  0.537514  0.256354         0.256637   \n",
       "2         0.0    1.0  0.934385  0.428738  0.607479  0.254144         0.254425   \n",
       "3    0.003984    0.0  0.426804  0.819111  0.611315  0.194475          0.19469   \n",
       "4    0.003984    0.0  0.330615  0.822669  0.524431  0.258564          0.25885   \n",
       "..        ...    ...       ...       ...       ...       ...              ...   \n",
       "751  0.996016    0.0  0.886123  0.064857  0.180701  0.458564         0.459071   \n",
       "752  0.996016    0.0   0.13773  0.069515  0.610436  0.456354         0.455752   \n",
       "753       1.0    0.0  0.972555  0.581775  0.437769  0.418785         0.419248   \n",
       "754       1.0    0.0  0.919363  0.664424  0.479726  0.373481         0.373894   \n",
       "755       1.0    0.0  0.890753  0.715566  0.431618  0.373481         0.373894   \n",
       "\n",
       "0   meanPeriodPulses stdDevPeriodPulses locPctJitter  ...  \\\n",
       "0           0.548552           0.021947     0.071532  ...   \n",
       "1           0.566485           0.018001     0.063181  ...   \n",
       "2           0.573975           0.014344     0.056282  ...   \n",
       "3           0.805881            0.04958     0.144517  ...   \n",
       "4           0.557581           0.765643     0.186638  ...   \n",
       "..               ...                ...          ...  ...   \n",
       "751         0.232063           0.011982     0.015614  ...   \n",
       "752          0.22495            0.06031     0.044299  ...   \n",
       "753         0.272799           0.026514     0.019971  ...   \n",
       "754         0.328953           0.012817     0.025781  ...   \n",
       "755         0.328654           0.007633     0.020697  ...   \n",
       "\n",
       "0   tqwt_kurtosisValue_dec_28 tqwt_kurtosisValue_dec_29  \\\n",
       "0                    0.000219                  0.005515   \n",
       "1                    0.000206                  0.010303   \n",
       "2                    0.000229                   0.00396   \n",
       "3                     0.00953                  0.010084   \n",
       "4                    0.019569                  0.021359   \n",
       "..                        ...                       ...   \n",
       "751                   0.00655                  0.007371   \n",
       "752                  0.001933                  0.001058   \n",
       "753                  0.210052                  0.212769   \n",
       "754                  0.074077                  0.055999   \n",
       "755                  0.258029                  0.100523   \n",
       "\n",
       "0   tqwt_kurtosisValue_dec_30 tqwt_kurtosisValue_dec_31  \\\n",
       "0                    0.019054                   0.02452   \n",
       "1                    0.182833                   0.12392   \n",
       "2                    0.065964                  0.089574   \n",
       "3                    0.030618                  0.122368   \n",
       "4                    0.037492                  0.039965   \n",
       "..                        ...                       ...   \n",
       "751                  0.012823                  0.007415   \n",
       "752                  0.002041                   0.00747   \n",
       "753                  0.204866                  0.045395   \n",
       "754                  0.061358                  0.004551   \n",
       "755                  0.063878                  0.030941   \n",
       "\n",
       "0   tqwt_kurtosisValue_dec_32 tqwt_kurtosisValue_dec_33  \\\n",
       "0                    0.039777                  0.039411   \n",
       "1                    0.110245                  0.109584   \n",
       "2                    0.110145                  0.044197   \n",
       "3                    0.029052                  0.042515   \n",
       "4                    0.071521                  0.139915   \n",
       "..                        ...                       ...   \n",
       "751                  0.021423                  0.026581   \n",
       "752                  0.041878                  0.036617   \n",
       "753                  0.012778                   0.01262   \n",
       "754                  0.001911                  0.004697   \n",
       "755                  0.015106                  0.019649   \n",
       "\n",
       "0   tqwt_kurtosisValue_dec_34 tqwt_kurtosisValue_dec_35  \\\n",
       "0                    0.012611                   0.01879   \n",
       "1                    0.077525                  0.078923   \n",
       "2                    0.017594                  0.021472   \n",
       "3                    0.049618                  0.077518   \n",
       "4                    0.105554                  0.055767   \n",
       "..                        ...                       ...   \n",
       "751                  0.025252                  0.022386   \n",
       "752                  0.073862                  0.161003   \n",
       "753                  0.027866                   0.02516   \n",
       "754                  0.013607                  0.015782   \n",
       "755                  0.035745                  0.011977   \n",
       "\n",
       "0   tqwt_kurtosisValue_dec_36 class  \n",
       "0                    0.107598     1  \n",
       "1                    0.277905     1  \n",
       "2                    0.015595     1  \n",
       "3                    0.011011     1  \n",
       "4                    0.024357     1  \n",
       "..                        ...   ...  \n",
       "751                   0.02923     0  \n",
       "752                   0.16911     0  \n",
       "753                  0.017385     0  \n",
       "754                  0.008757     0  \n",
       "755                  0.005119     0  \n",
       "\n",
       "[756 rows x 755 columns]"
      ]
     },
     "execution_count": 8,
     "metadata": {},
     "output_type": "execute_result"
    }
   ],
   "source": [
    "from sklearn.preprocessing import MinMaxScaler, minmax_scale\n",
    "\n",
    "df.iloc[:, :-1] = MinMaxScaler().fit_transform(df.iloc[:, :-1])\n",
    "df "
   ]
  },
  {
   "cell_type": "code",
   "execution_count": 9,
   "metadata": {},
   "outputs": [],
   "source": [
    "Y = df[CLASS]\n",
    "X = df.drop(CLASS, axis=1)\n"
   ]
  },
  {
   "cell_type": "code",
   "execution_count": 10,
   "metadata": {},
   "outputs": [
    {
     "data": {
      "text/html": [
       "<div>\n",
       "<style scoped>\n",
       "    .dataframe tbody tr th:only-of-type {\n",
       "        vertical-align: middle;\n",
       "    }\n",
       "\n",
       "    .dataframe tbody tr th {\n",
       "        vertical-align: top;\n",
       "    }\n",
       "\n",
       "    .dataframe thead th {\n",
       "        text-align: right;\n",
       "    }\n",
       "</style>\n",
       "<table border=\"1\" class=\"dataframe\">\n",
       "  <thead>\n",
       "    <tr style=\"text-align: right;\">\n",
       "      <th></th>\n",
       "      <th>id</th>\n",
       "      <th>gender</th>\n",
       "      <th>PPE</th>\n",
       "      <th>DFA</th>\n",
       "      <th>RPDE</th>\n",
       "      <th>numPulses</th>\n",
       "      <th>numPeriodsPulses</th>\n",
       "      <th>meanPeriodPulses</th>\n",
       "      <th>stdDevPeriodPulses</th>\n",
       "      <th>locPctJitter</th>\n",
       "      <th>...</th>\n",
       "      <th>tqwt_kurtosisValue_dec_27</th>\n",
       "      <th>tqwt_kurtosisValue_dec_28</th>\n",
       "      <th>tqwt_kurtosisValue_dec_29</th>\n",
       "      <th>tqwt_kurtosisValue_dec_30</th>\n",
       "      <th>tqwt_kurtosisValue_dec_31</th>\n",
       "      <th>tqwt_kurtosisValue_dec_32</th>\n",
       "      <th>tqwt_kurtosisValue_dec_33</th>\n",
       "      <th>tqwt_kurtosisValue_dec_34</th>\n",
       "      <th>tqwt_kurtosisValue_dec_35</th>\n",
       "      <th>tqwt_kurtosisValue_dec_36</th>\n",
       "    </tr>\n",
       "  </thead>\n",
       "  <tbody>\n",
       "    <tr>\n",
       "      <th>0</th>\n",
       "      <td>0.0</td>\n",
       "      <td>1.0</td>\n",
       "      <td>0.936278</td>\n",
       "      <td>0.56531</td>\n",
       "      <td>0.583</td>\n",
       "      <td>0.262983</td>\n",
       "      <td>0.263274</td>\n",
       "      <td>0.548552</td>\n",
       "      <td>0.021947</td>\n",
       "      <td>0.071532</td>\n",
       "      <td>...</td>\n",
       "      <td>0.000576</td>\n",
       "      <td>0.000219</td>\n",
       "      <td>0.005515</td>\n",
       "      <td>0.019054</td>\n",
       "      <td>0.02452</td>\n",
       "      <td>0.039777</td>\n",
       "      <td>0.039411</td>\n",
       "      <td>0.012611</td>\n",
       "      <td>0.01879</td>\n",
       "      <td>0.107598</td>\n",
       "    </tr>\n",
       "    <tr>\n",
       "      <th>1</th>\n",
       "      <td>0.0</td>\n",
       "      <td>1.0</td>\n",
       "      <td>0.837434</td>\n",
       "      <td>0.489455</td>\n",
       "      <td>0.537514</td>\n",
       "      <td>0.256354</td>\n",
       "      <td>0.256637</td>\n",
       "      <td>0.566485</td>\n",
       "      <td>0.018001</td>\n",
       "      <td>0.063181</td>\n",
       "      <td>...</td>\n",
       "      <td>0.000594</td>\n",
       "      <td>0.000206</td>\n",
       "      <td>0.010303</td>\n",
       "      <td>0.182833</td>\n",
       "      <td>0.12392</td>\n",
       "      <td>0.110245</td>\n",
       "      <td>0.109584</td>\n",
       "      <td>0.077525</td>\n",
       "      <td>0.078923</td>\n",
       "      <td>0.277905</td>\n",
       "    </tr>\n",
       "    <tr>\n",
       "      <th>2</th>\n",
       "      <td>0.0</td>\n",
       "      <td>1.0</td>\n",
       "      <td>0.934385</td>\n",
       "      <td>0.428738</td>\n",
       "      <td>0.607479</td>\n",
       "      <td>0.254144</td>\n",
       "      <td>0.254425</td>\n",
       "      <td>0.573975</td>\n",
       "      <td>0.014344</td>\n",
       "      <td>0.056282</td>\n",
       "      <td>...</td>\n",
       "      <td>0.000557</td>\n",
       "      <td>0.000229</td>\n",
       "      <td>0.00396</td>\n",
       "      <td>0.065964</td>\n",
       "      <td>0.089574</td>\n",
       "      <td>0.110145</td>\n",
       "      <td>0.044197</td>\n",
       "      <td>0.017594</td>\n",
       "      <td>0.021472</td>\n",
       "      <td>0.015595</td>\n",
       "    </tr>\n",
       "    <tr>\n",
       "      <th>3</th>\n",
       "      <td>0.003984</td>\n",
       "      <td>0.0</td>\n",
       "      <td>0.426804</td>\n",
       "      <td>0.819111</td>\n",
       "      <td>0.611315</td>\n",
       "      <td>0.194475</td>\n",
       "      <td>0.19469</td>\n",
       "      <td>0.805881</td>\n",
       "      <td>0.04958</td>\n",
       "      <td>0.144517</td>\n",
       "      <td>...</td>\n",
       "      <td>0.015906</td>\n",
       "      <td>0.00953</td>\n",
       "      <td>0.010084</td>\n",
       "      <td>0.030618</td>\n",
       "      <td>0.122368</td>\n",
       "      <td>0.029052</td>\n",
       "      <td>0.042515</td>\n",
       "      <td>0.049618</td>\n",
       "      <td>0.077518</td>\n",
       "      <td>0.011011</td>\n",
       "    </tr>\n",
       "    <tr>\n",
       "      <th>4</th>\n",
       "      <td>0.003984</td>\n",
       "      <td>0.0</td>\n",
       "      <td>0.330615</td>\n",
       "      <td>0.822669</td>\n",
       "      <td>0.524431</td>\n",
       "      <td>0.258564</td>\n",
       "      <td>0.25885</td>\n",
       "      <td>0.557581</td>\n",
       "      <td>0.765643</td>\n",
       "      <td>0.186638</td>\n",
       "      <td>...</td>\n",
       "      <td>0.018467</td>\n",
       "      <td>0.019569</td>\n",
       "      <td>0.021359</td>\n",
       "      <td>0.037492</td>\n",
       "      <td>0.039965</td>\n",
       "      <td>0.071521</td>\n",
       "      <td>0.139915</td>\n",
       "      <td>0.105554</td>\n",
       "      <td>0.055767</td>\n",
       "      <td>0.024357</td>\n",
       "    </tr>\n",
       "    <tr>\n",
       "      <th>...</th>\n",
       "      <td>...</td>\n",
       "      <td>...</td>\n",
       "      <td>...</td>\n",
       "      <td>...</td>\n",
       "      <td>...</td>\n",
       "      <td>...</td>\n",
       "      <td>...</td>\n",
       "      <td>...</td>\n",
       "      <td>...</td>\n",
       "      <td>...</td>\n",
       "      <td>...</td>\n",
       "      <td>...</td>\n",
       "      <td>...</td>\n",
       "      <td>...</td>\n",
       "      <td>...</td>\n",
       "      <td>...</td>\n",
       "      <td>...</td>\n",
       "      <td>...</td>\n",
       "      <td>...</td>\n",
       "      <td>...</td>\n",
       "      <td>...</td>\n",
       "    </tr>\n",
       "    <tr>\n",
       "      <th>751</th>\n",
       "      <td>0.996016</td>\n",
       "      <td>0.0</td>\n",
       "      <td>0.886123</td>\n",
       "      <td>0.064857</td>\n",
       "      <td>0.180701</td>\n",
       "      <td>0.458564</td>\n",
       "      <td>0.459071</td>\n",
       "      <td>0.232063</td>\n",
       "      <td>0.011982</td>\n",
       "      <td>0.015614</td>\n",
       "      <td>...</td>\n",
       "      <td>0.00592</td>\n",
       "      <td>0.00655</td>\n",
       "      <td>0.007371</td>\n",
       "      <td>0.012823</td>\n",
       "      <td>0.007415</td>\n",
       "      <td>0.021423</td>\n",
       "      <td>0.026581</td>\n",
       "      <td>0.025252</td>\n",
       "      <td>0.022386</td>\n",
       "      <td>0.02923</td>\n",
       "    </tr>\n",
       "    <tr>\n",
       "      <th>752</th>\n",
       "      <td>0.996016</td>\n",
       "      <td>0.0</td>\n",
       "      <td>0.13773</td>\n",
       "      <td>0.069515</td>\n",
       "      <td>0.610436</td>\n",
       "      <td>0.456354</td>\n",
       "      <td>0.455752</td>\n",
       "      <td>0.22495</td>\n",
       "      <td>0.06031</td>\n",
       "      <td>0.044299</td>\n",
       "      <td>...</td>\n",
       "      <td>0.051756</td>\n",
       "      <td>0.001933</td>\n",
       "      <td>0.001058</td>\n",
       "      <td>0.002041</td>\n",
       "      <td>0.00747</td>\n",
       "      <td>0.041878</td>\n",
       "      <td>0.036617</td>\n",
       "      <td>0.073862</td>\n",
       "      <td>0.161003</td>\n",
       "      <td>0.16911</td>\n",
       "    </tr>\n",
       "    <tr>\n",
       "      <th>753</th>\n",
       "      <td>1.0</td>\n",
       "      <td>0.0</td>\n",
       "      <td>0.972555</td>\n",
       "      <td>0.581775</td>\n",
       "      <td>0.437769</td>\n",
       "      <td>0.418785</td>\n",
       "      <td>0.419248</td>\n",
       "      <td>0.272799</td>\n",
       "      <td>0.026514</td>\n",
       "      <td>0.019971</td>\n",
       "      <td>...</td>\n",
       "      <td>0.383908</td>\n",
       "      <td>0.210052</td>\n",
       "      <td>0.212769</td>\n",
       "      <td>0.204866</td>\n",
       "      <td>0.045395</td>\n",
       "      <td>0.012778</td>\n",
       "      <td>0.01262</td>\n",
       "      <td>0.027866</td>\n",
       "      <td>0.02516</td>\n",
       "      <td>0.017385</td>\n",
       "    </tr>\n",
       "    <tr>\n",
       "      <th>754</th>\n",
       "      <td>1.0</td>\n",
       "      <td>0.0</td>\n",
       "      <td>0.919363</td>\n",
       "      <td>0.664424</td>\n",
       "      <td>0.479726</td>\n",
       "      <td>0.373481</td>\n",
       "      <td>0.373894</td>\n",
       "      <td>0.328953</td>\n",
       "      <td>0.012817</td>\n",
       "      <td>0.025781</td>\n",
       "      <td>...</td>\n",
       "      <td>0.011576</td>\n",
       "      <td>0.074077</td>\n",
       "      <td>0.055999</td>\n",
       "      <td>0.061358</td>\n",
       "      <td>0.004551</td>\n",
       "      <td>0.001911</td>\n",
       "      <td>0.004697</td>\n",
       "      <td>0.013607</td>\n",
       "      <td>0.015782</td>\n",
       "      <td>0.008757</td>\n",
       "    </tr>\n",
       "    <tr>\n",
       "      <th>755</th>\n",
       "      <td>1.0</td>\n",
       "      <td>0.0</td>\n",
       "      <td>0.890753</td>\n",
       "      <td>0.715566</td>\n",
       "      <td>0.431618</td>\n",
       "      <td>0.373481</td>\n",
       "      <td>0.373894</td>\n",
       "      <td>0.328654</td>\n",
       "      <td>0.007633</td>\n",
       "      <td>0.020697</td>\n",
       "      <td>...</td>\n",
       "      <td>0.027687</td>\n",
       "      <td>0.258029</td>\n",
       "      <td>0.100523</td>\n",
       "      <td>0.063878</td>\n",
       "      <td>0.030941</td>\n",
       "      <td>0.015106</td>\n",
       "      <td>0.019649</td>\n",
       "      <td>0.035745</td>\n",
       "      <td>0.011977</td>\n",
       "      <td>0.005119</td>\n",
       "    </tr>\n",
       "  </tbody>\n",
       "</table>\n",
       "<p>756 rows × 754 columns</p>\n",
       "</div>"
      ],
      "text/plain": [
       "0          id gender       PPE       DFA      RPDE numPulses numPeriodsPulses  \\\n",
       "0         0.0    1.0  0.936278   0.56531     0.583  0.262983         0.263274   \n",
       "1         0.0    1.0  0.837434  0.489455  0.537514  0.256354         0.256637   \n",
       "2         0.0    1.0  0.934385  0.428738  0.607479  0.254144         0.254425   \n",
       "3    0.003984    0.0  0.426804  0.819111  0.611315  0.194475          0.19469   \n",
       "4    0.003984    0.0  0.330615  0.822669  0.524431  0.258564          0.25885   \n",
       "..        ...    ...       ...       ...       ...       ...              ...   \n",
       "751  0.996016    0.0  0.886123  0.064857  0.180701  0.458564         0.459071   \n",
       "752  0.996016    0.0   0.13773  0.069515  0.610436  0.456354         0.455752   \n",
       "753       1.0    0.0  0.972555  0.581775  0.437769  0.418785         0.419248   \n",
       "754       1.0    0.0  0.919363  0.664424  0.479726  0.373481         0.373894   \n",
       "755       1.0    0.0  0.890753  0.715566  0.431618  0.373481         0.373894   \n",
       "\n",
       "0   meanPeriodPulses stdDevPeriodPulses locPctJitter  ...  \\\n",
       "0           0.548552           0.021947     0.071532  ...   \n",
       "1           0.566485           0.018001     0.063181  ...   \n",
       "2           0.573975           0.014344     0.056282  ...   \n",
       "3           0.805881            0.04958     0.144517  ...   \n",
       "4           0.557581           0.765643     0.186638  ...   \n",
       "..               ...                ...          ...  ...   \n",
       "751         0.232063           0.011982     0.015614  ...   \n",
       "752          0.22495            0.06031     0.044299  ...   \n",
       "753         0.272799           0.026514     0.019971  ...   \n",
       "754         0.328953           0.012817     0.025781  ...   \n",
       "755         0.328654           0.007633     0.020697  ...   \n",
       "\n",
       "0   tqwt_kurtosisValue_dec_27 tqwt_kurtosisValue_dec_28  \\\n",
       "0                    0.000576                  0.000219   \n",
       "1                    0.000594                  0.000206   \n",
       "2                    0.000557                  0.000229   \n",
       "3                    0.015906                   0.00953   \n",
       "4                    0.018467                  0.019569   \n",
       "..                        ...                       ...   \n",
       "751                   0.00592                   0.00655   \n",
       "752                  0.051756                  0.001933   \n",
       "753                  0.383908                  0.210052   \n",
       "754                  0.011576                  0.074077   \n",
       "755                  0.027687                  0.258029   \n",
       "\n",
       "0   tqwt_kurtosisValue_dec_29 tqwt_kurtosisValue_dec_30  \\\n",
       "0                    0.005515                  0.019054   \n",
       "1                    0.010303                  0.182833   \n",
       "2                     0.00396                  0.065964   \n",
       "3                    0.010084                  0.030618   \n",
       "4                    0.021359                  0.037492   \n",
       "..                        ...                       ...   \n",
       "751                  0.007371                  0.012823   \n",
       "752                  0.001058                  0.002041   \n",
       "753                  0.212769                  0.204866   \n",
       "754                  0.055999                  0.061358   \n",
       "755                  0.100523                  0.063878   \n",
       "\n",
       "0   tqwt_kurtosisValue_dec_31 tqwt_kurtosisValue_dec_32  \\\n",
       "0                     0.02452                  0.039777   \n",
       "1                     0.12392                  0.110245   \n",
       "2                    0.089574                  0.110145   \n",
       "3                    0.122368                  0.029052   \n",
       "4                    0.039965                  0.071521   \n",
       "..                        ...                       ...   \n",
       "751                  0.007415                  0.021423   \n",
       "752                   0.00747                  0.041878   \n",
       "753                  0.045395                  0.012778   \n",
       "754                  0.004551                  0.001911   \n",
       "755                  0.030941                  0.015106   \n",
       "\n",
       "0   tqwt_kurtosisValue_dec_33 tqwt_kurtosisValue_dec_34  \\\n",
       "0                    0.039411                  0.012611   \n",
       "1                    0.109584                  0.077525   \n",
       "2                    0.044197                  0.017594   \n",
       "3                    0.042515                  0.049618   \n",
       "4                    0.139915                  0.105554   \n",
       "..                        ...                       ...   \n",
       "751                  0.026581                  0.025252   \n",
       "752                  0.036617                  0.073862   \n",
       "753                   0.01262                  0.027866   \n",
       "754                  0.004697                  0.013607   \n",
       "755                  0.019649                  0.035745   \n",
       "\n",
       "0   tqwt_kurtosisValue_dec_35 tqwt_kurtosisValue_dec_36  \n",
       "0                     0.01879                  0.107598  \n",
       "1                    0.078923                  0.277905  \n",
       "2                    0.021472                  0.015595  \n",
       "3                    0.077518                  0.011011  \n",
       "4                    0.055767                  0.024357  \n",
       "..                        ...                       ...  \n",
       "751                  0.022386                   0.02923  \n",
       "752                  0.161003                   0.16911  \n",
       "753                   0.02516                  0.017385  \n",
       "754                  0.015782                  0.008757  \n",
       "755                  0.011977                  0.005119  \n",
       "\n",
       "[756 rows x 754 columns]"
      ]
     },
     "execution_count": 10,
     "metadata": {},
     "output_type": "execute_result"
    }
   ],
   "source": [
    "X"
   ]
  },
  {
   "cell_type": "code",
   "execution_count": 11,
   "metadata": {},
   "outputs": [
    {
     "data": {
      "text/plain": [
       "0      1\n",
       "1      1\n",
       "2      1\n",
       "3      1\n",
       "4      1\n",
       "      ..\n",
       "751    0\n",
       "752    0\n",
       "753    0\n",
       "754    0\n",
       "755    0\n",
       "Name: class, Length: 756, dtype: object"
      ]
     },
     "execution_count": 11,
     "metadata": {},
     "output_type": "execute_result"
    }
   ],
   "source": [
    "Y"
   ]
  },
  {
   "cell_type": "code",
   "execution_count": 16,
   "metadata": {},
   "outputs": [
    {
     "data": {
      "text/plain": [
       "1    564\n",
       "0    192\n",
       "Name: class, dtype: int64"
      ]
     },
     "execution_count": 16,
     "metadata": {},
     "output_type": "execute_result"
    }
   ],
   "source": [
    "Y.value_counts()"
   ]
  },
  {
   "cell_type": "markdown",
   "metadata": {},
   "source": [
    "### As you see the size of category with value of 1 is mush bigger than 0 and this will force the model to predict 1 more ..."
   ]
  },
  {
   "cell_type": "code",
   "execution_count": 17,
   "metadata": {},
   "outputs": [
    {
     "data": {
      "text/plain": [
       "0.7480106100795756"
      ]
     },
     "execution_count": 17,
     "metadata": {},
     "output_type": "execute_result"
    }
   ],
   "source": [
    "564/(192 + 562)"
   ]
  },
  {
   "cell_type": "markdown",
   "metadata": {},
   "source": [
    "### If our model predict 1 for all inputs then we'll get 74% ! "
   ]
  },
  {
   "cell_type": "markdown",
   "metadata": {},
   "source": [
    "## Spliting Dataset into train and test"
   ]
  },
  {
   "cell_type": "code",
   "execution_count": 67,
   "metadata": {},
   "outputs": [
    {
     "data": {
      "text/html": [
       "<div>\n",
       "<style scoped>\n",
       "    .dataframe tbody tr th:only-of-type {\n",
       "        vertical-align: middle;\n",
       "    }\n",
       "\n",
       "    .dataframe tbody tr th {\n",
       "        vertical-align: top;\n",
       "    }\n",
       "\n",
       "    .dataframe thead th {\n",
       "        text-align: right;\n",
       "    }\n",
       "</style>\n",
       "<table border=\"1\" class=\"dataframe\">\n",
       "  <thead>\n",
       "    <tr style=\"text-align: right;\">\n",
       "      <th></th>\n",
       "      <th>id</th>\n",
       "      <th>gender</th>\n",
       "      <th>PPE</th>\n",
       "      <th>DFA</th>\n",
       "      <th>RPDE</th>\n",
       "      <th>numPulses</th>\n",
       "      <th>numPeriodsPulses</th>\n",
       "      <th>meanPeriodPulses</th>\n",
       "      <th>stdDevPeriodPulses</th>\n",
       "      <th>locPctJitter</th>\n",
       "      <th>...</th>\n",
       "      <th>tqwt_kurtosisValue_dec_27</th>\n",
       "      <th>tqwt_kurtosisValue_dec_28</th>\n",
       "      <th>tqwt_kurtosisValue_dec_29</th>\n",
       "      <th>tqwt_kurtosisValue_dec_30</th>\n",
       "      <th>tqwt_kurtosisValue_dec_31</th>\n",
       "      <th>tqwt_kurtosisValue_dec_32</th>\n",
       "      <th>tqwt_kurtosisValue_dec_33</th>\n",
       "      <th>tqwt_kurtosisValue_dec_34</th>\n",
       "      <th>tqwt_kurtosisValue_dec_35</th>\n",
       "      <th>tqwt_kurtosisValue_dec_36</th>\n",
       "    </tr>\n",
       "  </thead>\n",
       "  <tbody>\n",
       "    <tr>\n",
       "      <th>308</th>\n",
       "      <td>0.406375</td>\n",
       "      <td>1.0</td>\n",
       "      <td>0.490884</td>\n",
       "      <td>0.899172</td>\n",
       "      <td>0.692773</td>\n",
       "      <td>0.276243</td>\n",
       "      <td>0.276549</td>\n",
       "      <td>0.510003</td>\n",
       "      <td>0.036605</td>\n",
       "      <td>0.23602</td>\n",
       "      <td>...</td>\n",
       "      <td>0.000781</td>\n",
       "      <td>0.000989</td>\n",
       "      <td>0.046399</td>\n",
       "      <td>0.033188</td>\n",
       "      <td>0.032378</td>\n",
       "      <td>0.060467</td>\n",
       "      <td>0.113747</td>\n",
       "      <td>0.148546</td>\n",
       "      <td>0.125686</td>\n",
       "      <td>0.080109</td>\n",
       "    </tr>\n",
       "    <tr>\n",
       "      <th>24</th>\n",
       "      <td>0.031873</td>\n",
       "      <td>1.0</td>\n",
       "      <td>0.908926</td>\n",
       "      <td>0.419325</td>\n",
       "      <td>0.435049</td>\n",
       "      <td>0.287293</td>\n",
       "      <td>0.287611</td>\n",
       "      <td>0.484784</td>\n",
       "      <td>0.021919</td>\n",
       "      <td>0.069354</td>\n",
       "      <td>...</td>\n",
       "      <td>0.000633</td>\n",
       "      <td>0.002025</td>\n",
       "      <td>0.437823</td>\n",
       "      <td>0.737176</td>\n",
       "      <td>0.869403</td>\n",
       "      <td>0.9135</td>\n",
       "      <td>0.895126</td>\n",
       "      <td>0.906134</td>\n",
       "      <td>0.809773</td>\n",
       "      <td>0.580327</td>\n",
       "    </tr>\n",
       "    <tr>\n",
       "      <th>706</th>\n",
       "      <td>0.936255</td>\n",
       "      <td>0.0</td>\n",
       "      <td>0.940412</td>\n",
       "      <td>0.284661</td>\n",
       "      <td>0.326713</td>\n",
       "      <td>0.439779</td>\n",
       "      <td>0.440265</td>\n",
       "      <td>0.249921</td>\n",
       "      <td>0.026437</td>\n",
       "      <td>0.025781</td>\n",
       "      <td>...</td>\n",
       "      <td>0.011879</td>\n",
       "      <td>0.009638</td>\n",
       "      <td>0.009291</td>\n",
       "      <td>0.013488</td>\n",
       "      <td>0.013833</td>\n",
       "      <td>0.016774</td>\n",
       "      <td>0.018635</td>\n",
       "      <td>0.033994</td>\n",
       "      <td>0.0964</td>\n",
       "      <td>0.021671</td>\n",
       "    </tr>\n",
       "    <tr>\n",
       "      <th>285</th>\n",
       "      <td>0.378486</td>\n",
       "      <td>1.0</td>\n",
       "      <td>0.940469</td>\n",
       "      <td>0.563369</td>\n",
       "      <td>0.724799</td>\n",
       "      <td>0.370166</td>\n",
       "      <td>0.370575</td>\n",
       "      <td>0.333397</td>\n",
       "      <td>0.027492</td>\n",
       "      <td>0.109659</td>\n",
       "      <td>...</td>\n",
       "      <td>0.008191</td>\n",
       "      <td>0.022813</td>\n",
       "      <td>0.036977</td>\n",
       "      <td>0.054367</td>\n",
       "      <td>0.028438</td>\n",
       "      <td>0.021409</td>\n",
       "      <td>0.025452</td>\n",
       "      <td>0.202399</td>\n",
       "      <td>0.236884</td>\n",
       "      <td>0.129695</td>\n",
       "    </tr>\n",
       "    <tr>\n",
       "      <th>500</th>\n",
       "      <td>0.661355</td>\n",
       "      <td>1.0</td>\n",
       "      <td>0.867188</td>\n",
       "      <td>0.626253</td>\n",
       "      <td>0.34995</td>\n",
       "      <td>0.334807</td>\n",
       "      <td>0.335177</td>\n",
       "      <td>0.390488</td>\n",
       "      <td>0.014056</td>\n",
       "      <td>0.038489</td>\n",
       "      <td>...</td>\n",
       "      <td>0.001217</td>\n",
       "      <td>0.304693</td>\n",
       "      <td>0.159036</td>\n",
       "      <td>0.1012</td>\n",
       "      <td>0.014994</td>\n",
       "      <td>0.006445</td>\n",
       "      <td>0.013073</td>\n",
       "      <td>0.294028</td>\n",
       "      <td>0.468655</td>\n",
       "      <td>0.410317</td>\n",
       "    </tr>\n",
       "    <tr>\n",
       "      <th>...</th>\n",
       "      <td>...</td>\n",
       "      <td>...</td>\n",
       "      <td>...</td>\n",
       "      <td>...</td>\n",
       "      <td>...</td>\n",
       "      <td>...</td>\n",
       "      <td>...</td>\n",
       "      <td>...</td>\n",
       "      <td>...</td>\n",
       "      <td>...</td>\n",
       "      <td>...</td>\n",
       "      <td>...</td>\n",
       "      <td>...</td>\n",
       "      <td>...</td>\n",
       "      <td>...</td>\n",
       "      <td>...</td>\n",
       "      <td>...</td>\n",
       "      <td>...</td>\n",
       "      <td>...</td>\n",
       "      <td>...</td>\n",
       "      <td>...</td>\n",
       "    </tr>\n",
       "    <tr>\n",
       "      <th>485</th>\n",
       "      <td>0.641434</td>\n",
       "      <td>1.0</td>\n",
       "      <td>0.905508</td>\n",
       "      <td>0.316588</td>\n",
       "      <td>0.236076</td>\n",
       "      <td>0.319337</td>\n",
       "      <td>0.31969</td>\n",
       "      <td>0.417225</td>\n",
       "      <td>0.011751</td>\n",
       "      <td>0.045389</td>\n",
       "      <td>...</td>\n",
       "      <td>0.002064</td>\n",
       "      <td>0.345258</td>\n",
       "      <td>0.450553</td>\n",
       "      <td>0.401686</td>\n",
       "      <td>0.145852</td>\n",
       "      <td>0.159584</td>\n",
       "      <td>0.260427</td>\n",
       "      <td>0.342808</td>\n",
       "      <td>0.321132</td>\n",
       "      <td>0.044343</td>\n",
       "    </tr>\n",
       "    <tr>\n",
       "      <th>188</th>\n",
       "      <td>0.247012</td>\n",
       "      <td>0.0</td>\n",
       "      <td>0.78475</td>\n",
       "      <td>0.388238</td>\n",
       "      <td>0.550709</td>\n",
       "      <td>0.323757</td>\n",
       "      <td>0.324115</td>\n",
       "      <td>0.407214</td>\n",
       "      <td>0.376811</td>\n",
       "      <td>0.104575</td>\n",
       "      <td>...</td>\n",
       "      <td>0.001163</td>\n",
       "      <td>0.133445</td>\n",
       "      <td>0.058556</td>\n",
       "      <td>0.067342</td>\n",
       "      <td>0.056727</td>\n",
       "      <td>0.059778</td>\n",
       "      <td>0.088965</td>\n",
       "      <td>0.273849</td>\n",
       "      <td>0.326944</td>\n",
       "      <td>0.457532</td>\n",
       "    </tr>\n",
       "    <tr>\n",
       "      <th>143</th>\n",
       "      <td>0.187251</td>\n",
       "      <td>1.0</td>\n",
       "      <td>0.929997</td>\n",
       "      <td>0.257909</td>\n",
       "      <td>0.415215</td>\n",
       "      <td>0.365746</td>\n",
       "      <td>0.36615</td>\n",
       "      <td>0.339437</td>\n",
       "      <td>0.01348</td>\n",
       "      <td>0.031227</td>\n",
       "      <td>...</td>\n",
       "      <td>0.010408</td>\n",
       "      <td>0.549032</td>\n",
       "      <td>0.488333</td>\n",
       "      <td>0.721275</td>\n",
       "      <td>0.644077</td>\n",
       "      <td>0.410727</td>\n",
       "      <td>0.194098</td>\n",
       "      <td>0.103579</td>\n",
       "      <td>0.104486</td>\n",
       "      <td>0.006526</td>\n",
       "    </tr>\n",
       "    <tr>\n",
       "      <th>537</th>\n",
       "      <td>0.713147</td>\n",
       "      <td>1.0</td>\n",
       "      <td>0.231021</td>\n",
       "      <td>0.776089</td>\n",
       "      <td>0.668433</td>\n",
       "      <td>0.261878</td>\n",
       "      <td>0.262168</td>\n",
       "      <td>0.551446</td>\n",
       "      <td>0.042456</td>\n",
       "      <td>0.07008</td>\n",
       "      <td>...</td>\n",
       "      <td>0.000661</td>\n",
       "      <td>0.00043</td>\n",
       "      <td>0.065653</td>\n",
       "      <td>0.157227</td>\n",
       "      <td>0.03818</td>\n",
       "      <td>0.032283</td>\n",
       "      <td>0.061946</td>\n",
       "      <td>0.202326</td>\n",
       "      <td>0.156329</td>\n",
       "      <td>0.055434</td>\n",
       "    </tr>\n",
       "    <tr>\n",
       "      <th>561</th>\n",
       "      <td>0.74502</td>\n",
       "      <td>0.0</td>\n",
       "      <td>0.887982</td>\n",
       "      <td>0.377014</td>\n",
       "      <td>0.29763</td>\n",
       "      <td>0.454144</td>\n",
       "      <td>0.454646</td>\n",
       "      <td>0.236288</td>\n",
       "      <td>0.011665</td>\n",
       "      <td>0.014524</td>\n",
       "      <td>...</td>\n",
       "      <td>0.019505</td>\n",
       "      <td>0.014221</td>\n",
       "      <td>0.013446</td>\n",
       "      <td>0.017537</td>\n",
       "      <td>0.014617</td>\n",
       "      <td>0.015075</td>\n",
       "      <td>0.02736</td>\n",
       "      <td>0.013095</td>\n",
       "      <td>0.00347</td>\n",
       "      <td>0.001657</td>\n",
       "    </tr>\n",
       "  </tbody>\n",
       "</table>\n",
       "<p>529 rows × 754 columns</p>\n",
       "</div>"
      ],
      "text/plain": [
       "0          id gender       PPE       DFA      RPDE numPulses numPeriodsPulses  \\\n",
       "308  0.406375    1.0  0.490884  0.899172  0.692773  0.276243         0.276549   \n",
       "24   0.031873    1.0  0.908926  0.419325  0.435049  0.287293         0.287611   \n",
       "706  0.936255    0.0  0.940412  0.284661  0.326713  0.439779         0.440265   \n",
       "285  0.378486    1.0  0.940469  0.563369  0.724799  0.370166         0.370575   \n",
       "500  0.661355    1.0  0.867188  0.626253   0.34995  0.334807         0.335177   \n",
       "..        ...    ...       ...       ...       ...       ...              ...   \n",
       "485  0.641434    1.0  0.905508  0.316588  0.236076  0.319337          0.31969   \n",
       "188  0.247012    0.0   0.78475  0.388238  0.550709  0.323757         0.324115   \n",
       "143  0.187251    1.0  0.929997  0.257909  0.415215  0.365746          0.36615   \n",
       "537  0.713147    1.0  0.231021  0.776089  0.668433  0.261878         0.262168   \n",
       "561   0.74502    0.0  0.887982  0.377014   0.29763  0.454144         0.454646   \n",
       "\n",
       "0   meanPeriodPulses stdDevPeriodPulses locPctJitter  ...  \\\n",
       "308         0.510003           0.036605      0.23602  ...   \n",
       "24          0.484784           0.021919     0.069354  ...   \n",
       "706         0.249921           0.026437     0.025781  ...   \n",
       "285         0.333397           0.027492     0.109659  ...   \n",
       "500         0.390488           0.014056     0.038489  ...   \n",
       "..               ...                ...          ...  ...   \n",
       "485         0.417225           0.011751     0.045389  ...   \n",
       "188         0.407214           0.376811     0.104575  ...   \n",
       "143         0.339437            0.01348     0.031227  ...   \n",
       "537         0.551446           0.042456      0.07008  ...   \n",
       "561         0.236288           0.011665     0.014524  ...   \n",
       "\n",
       "0   tqwt_kurtosisValue_dec_27 tqwt_kurtosisValue_dec_28  \\\n",
       "308                  0.000781                  0.000989   \n",
       "24                   0.000633                  0.002025   \n",
       "706                  0.011879                  0.009638   \n",
       "285                  0.008191                  0.022813   \n",
       "500                  0.001217                  0.304693   \n",
       "..                        ...                       ...   \n",
       "485                  0.002064                  0.345258   \n",
       "188                  0.001163                  0.133445   \n",
       "143                  0.010408                  0.549032   \n",
       "537                  0.000661                   0.00043   \n",
       "561                  0.019505                  0.014221   \n",
       "\n",
       "0   tqwt_kurtosisValue_dec_29 tqwt_kurtosisValue_dec_30  \\\n",
       "308                  0.046399                  0.033188   \n",
       "24                   0.437823                  0.737176   \n",
       "706                  0.009291                  0.013488   \n",
       "285                  0.036977                  0.054367   \n",
       "500                  0.159036                    0.1012   \n",
       "..                        ...                       ...   \n",
       "485                  0.450553                  0.401686   \n",
       "188                  0.058556                  0.067342   \n",
       "143                  0.488333                  0.721275   \n",
       "537                  0.065653                  0.157227   \n",
       "561                  0.013446                  0.017537   \n",
       "\n",
       "0   tqwt_kurtosisValue_dec_31 tqwt_kurtosisValue_dec_32  \\\n",
       "308                  0.032378                  0.060467   \n",
       "24                   0.869403                    0.9135   \n",
       "706                  0.013833                  0.016774   \n",
       "285                  0.028438                  0.021409   \n",
       "500                  0.014994                  0.006445   \n",
       "..                        ...                       ...   \n",
       "485                  0.145852                  0.159584   \n",
       "188                  0.056727                  0.059778   \n",
       "143                  0.644077                  0.410727   \n",
       "537                   0.03818                  0.032283   \n",
       "561                  0.014617                  0.015075   \n",
       "\n",
       "0   tqwt_kurtosisValue_dec_33 tqwt_kurtosisValue_dec_34  \\\n",
       "308                  0.113747                  0.148546   \n",
       "24                   0.895126                  0.906134   \n",
       "706                  0.018635                  0.033994   \n",
       "285                  0.025452                  0.202399   \n",
       "500                  0.013073                  0.294028   \n",
       "..                        ...                       ...   \n",
       "485                  0.260427                  0.342808   \n",
       "188                  0.088965                  0.273849   \n",
       "143                  0.194098                  0.103579   \n",
       "537                  0.061946                  0.202326   \n",
       "561                   0.02736                  0.013095   \n",
       "\n",
       "0   tqwt_kurtosisValue_dec_35 tqwt_kurtosisValue_dec_36  \n",
       "308                  0.125686                  0.080109  \n",
       "24                   0.809773                  0.580327  \n",
       "706                    0.0964                  0.021671  \n",
       "285                  0.236884                  0.129695  \n",
       "500                  0.468655                  0.410317  \n",
       "..                        ...                       ...  \n",
       "485                  0.321132                  0.044343  \n",
       "188                  0.326944                  0.457532  \n",
       "143                  0.104486                  0.006526  \n",
       "537                  0.156329                  0.055434  \n",
       "561                   0.00347                  0.001657  \n",
       "\n",
       "[529 rows x 754 columns]"
      ]
     },
     "execution_count": 67,
     "metadata": {},
     "output_type": "execute_result"
    }
   ],
   "source": [
    "from sklearn.model_selection import train_test_split\n",
    "x_train, x_test, y_train, y_test = train_test_split(X, Y, test_size=0.3, random_state=None)\n",
    "x_train"
   ]
  },
  {
   "cell_type": "code",
   "execution_count": 68,
   "metadata": {},
   "outputs": [
    {
     "data": {
      "text/html": [
       "<div>\n",
       "<style scoped>\n",
       "    .dataframe tbody tr th:only-of-type {\n",
       "        vertical-align: middle;\n",
       "    }\n",
       "\n",
       "    .dataframe tbody tr th {\n",
       "        vertical-align: top;\n",
       "    }\n",
       "\n",
       "    .dataframe thead th {\n",
       "        text-align: right;\n",
       "    }\n",
       "</style>\n",
       "<table border=\"1\" class=\"dataframe\">\n",
       "  <thead>\n",
       "    <tr style=\"text-align: right;\">\n",
       "      <th></th>\n",
       "      <th>id</th>\n",
       "      <th>gender</th>\n",
       "      <th>PPE</th>\n",
       "      <th>DFA</th>\n",
       "      <th>RPDE</th>\n",
       "      <th>numPulses</th>\n",
       "      <th>numPeriodsPulses</th>\n",
       "      <th>meanPeriodPulses</th>\n",
       "      <th>stdDevPeriodPulses</th>\n",
       "      <th>locPctJitter</th>\n",
       "      <th>...</th>\n",
       "      <th>tqwt_kurtosisValue_dec_27</th>\n",
       "      <th>tqwt_kurtosisValue_dec_28</th>\n",
       "      <th>tqwt_kurtosisValue_dec_29</th>\n",
       "      <th>tqwt_kurtosisValue_dec_30</th>\n",
       "      <th>tqwt_kurtosisValue_dec_31</th>\n",
       "      <th>tqwt_kurtosisValue_dec_32</th>\n",
       "      <th>tqwt_kurtosisValue_dec_33</th>\n",
       "      <th>tqwt_kurtosisValue_dec_34</th>\n",
       "      <th>tqwt_kurtosisValue_dec_35</th>\n",
       "      <th>tqwt_kurtosisValue_dec_36</th>\n",
       "    </tr>\n",
       "  </thead>\n",
       "  <tbody>\n",
       "    <tr>\n",
       "      <th>322</th>\n",
       "      <td>0.426295</td>\n",
       "      <td>1.0</td>\n",
       "      <td>0.929212</td>\n",
       "      <td>0.690076</td>\n",
       "      <td>0.216772</td>\n",
       "      <td>0.280663</td>\n",
       "      <td>0.280973</td>\n",
       "      <td>0.49931</td>\n",
       "      <td>0.012817</td>\n",
       "      <td>0.045025</td>\n",
       "      <td>...</td>\n",
       "      <td>0.029985</td>\n",
       "      <td>0.018583</td>\n",
       "      <td>0.010395</td>\n",
       "      <td>0.010864</td>\n",
       "      <td>0.009189</td>\n",
       "      <td>0.024004</td>\n",
       "      <td>0.016599</td>\n",
       "      <td>0.022622</td>\n",
       "      <td>0.025075</td>\n",
       "      <td>0.005376</td>\n",
       "    </tr>\n",
       "    <tr>\n",
       "      <th>588</th>\n",
       "      <td>0.780876</td>\n",
       "      <td>0.0</td>\n",
       "      <td>0.904689</td>\n",
       "      <td>0.121369</td>\n",
       "      <td>0.230385</td>\n",
       "      <td>0.509392</td>\n",
       "      <td>0.509956</td>\n",
       "      <td>0.190304</td>\n",
       "      <td>0.003168</td>\n",
       "      <td>0.012709</td>\n",
       "      <td>...</td>\n",
       "      <td>0.154249</td>\n",
       "      <td>0.135568</td>\n",
       "      <td>0.046662</td>\n",
       "      <td>0.019905</td>\n",
       "      <td>0.013821</td>\n",
       "      <td>0.00651</td>\n",
       "      <td>0.014343</td>\n",
       "      <td>0.009251</td>\n",
       "      <td>0.007586</td>\n",
       "      <td>0.011134</td>\n",
       "    </tr>\n",
       "    <tr>\n",
       "      <th>468</th>\n",
       "      <td>0.621514</td>\n",
       "      <td>1.0</td>\n",
       "      <td>0.071503</td>\n",
       "      <td>0.278353</td>\n",
       "      <td>0.599863</td>\n",
       "      <td>1.0</td>\n",
       "      <td>1.0</td>\n",
       "      <td>0.0</td>\n",
       "      <td>0.341725</td>\n",
       "      <td>0.02215</td>\n",
       "      <td>...</td>\n",
       "      <td>0.079055</td>\n",
       "      <td>0.077406</td>\n",
       "      <td>0.028989</td>\n",
       "      <td>0.027525</td>\n",
       "      <td>0.034155</td>\n",
       "      <td>0.038848</td>\n",
       "      <td>0.081321</td>\n",
       "      <td>0.105898</td>\n",
       "      <td>0.041782</td>\n",
       "      <td>0.061598</td>\n",
       "    </tr>\n",
       "    <tr>\n",
       "      <th>527</th>\n",
       "      <td>0.697211</td>\n",
       "      <td>0.0</td>\n",
       "      <td>0.931394</td>\n",
       "      <td>0.039982</td>\n",
       "      <td>0.327284</td>\n",
       "      <td>0.553591</td>\n",
       "      <td>0.554204</td>\n",
       "      <td>0.159493</td>\n",
       "      <td>0.00697</td>\n",
       "      <td>0.015614</td>\n",
       "      <td>...</td>\n",
       "      <td>0.003634</td>\n",
       "      <td>0.004384</td>\n",
       "      <td>0.012717</td>\n",
       "      <td>0.100693</td>\n",
       "      <td>0.251594</td>\n",
       "      <td>0.503306</td>\n",
       "      <td>0.676027</td>\n",
       "      <td>0.770045</td>\n",
       "      <td>0.77666</td>\n",
       "      <td>0.555742</td>\n",
       "    </tr>\n",
       "    <tr>\n",
       "      <th>212</th>\n",
       "      <td>0.278884</td>\n",
       "      <td>0.0</td>\n",
       "      <td>0.904758</td>\n",
       "      <td>0.629132</td>\n",
       "      <td>0.219394</td>\n",
       "      <td>0.670718</td>\n",
       "      <td>0.67146</td>\n",
       "      <td>0.097677</td>\n",
       "      <td>0.008986</td>\n",
       "      <td>0.016703</td>\n",
       "      <td>...</td>\n",
       "      <td>0.007767</td>\n",
       "      <td>0.014919</td>\n",
       "      <td>0.009547</td>\n",
       "      <td>0.012727</td>\n",
       "      <td>0.009129</td>\n",
       "      <td>0.006338</td>\n",
       "      <td>0.022319</td>\n",
       "      <td>0.026585</td>\n",
       "      <td>0.128678</td>\n",
       "      <td>0.052745</td>\n",
       "    </tr>\n",
       "    <tr>\n",
       "      <th>...</th>\n",
       "      <td>...</td>\n",
       "      <td>...</td>\n",
       "      <td>...</td>\n",
       "      <td>...</td>\n",
       "      <td>...</td>\n",
       "      <td>...</td>\n",
       "      <td>...</td>\n",
       "      <td>...</td>\n",
       "      <td>...</td>\n",
       "      <td>...</td>\n",
       "      <td>...</td>\n",
       "      <td>...</td>\n",
       "      <td>...</td>\n",
       "      <td>...</td>\n",
       "      <td>...</td>\n",
       "      <td>...</td>\n",
       "      <td>...</td>\n",
       "      <td>...</td>\n",
       "      <td>...</td>\n",
       "      <td>...</td>\n",
       "      <td>...</td>\n",
       "    </tr>\n",
       "    <tr>\n",
       "      <th>675</th>\n",
       "      <td>0.896414</td>\n",
       "      <td>0.0</td>\n",
       "      <td>0.878087</td>\n",
       "      <td>0.684156</td>\n",
       "      <td>0.360328</td>\n",
       "      <td>0.327072</td>\n",
       "      <td>0.327434</td>\n",
       "      <td>0.402856</td>\n",
       "      <td>0.012788</td>\n",
       "      <td>0.028322</td>\n",
       "      <td>...</td>\n",
       "      <td>0.006975</td>\n",
       "      <td>0.479755</td>\n",
       "      <td>0.299266</td>\n",
       "      <td>0.065909</td>\n",
       "      <td>0.015394</td>\n",
       "      <td>0.021477</td>\n",
       "      <td>0.039342</td>\n",
       "      <td>0.025666</td>\n",
       "      <td>0.020387</td>\n",
       "      <td>0.010113</td>\n",
       "    </tr>\n",
       "    <tr>\n",
       "      <th>303</th>\n",
       "      <td>0.40239</td>\n",
       "      <td>1.0</td>\n",
       "      <td>0.850839</td>\n",
       "      <td>0.936631</td>\n",
       "      <td>0.337341</td>\n",
       "      <td>0.358011</td>\n",
       "      <td>0.358407</td>\n",
       "      <td>0.351524</td>\n",
       "      <td>0.023388</td>\n",
       "      <td>0.12963</td>\n",
       "      <td>...</td>\n",
       "      <td>0.066672</td>\n",
       "      <td>0.010713</td>\n",
       "      <td>0.010636</td>\n",
       "      <td>0.31061</td>\n",
       "      <td>0.194189</td>\n",
       "      <td>0.053969</td>\n",
       "      <td>0.047327</td>\n",
       "      <td>0.097141</td>\n",
       "      <td>0.05696</td>\n",
       "      <td>0.052128</td>\n",
       "    </tr>\n",
       "    <tr>\n",
       "      <th>196</th>\n",
       "      <td>0.258964</td>\n",
       "      <td>1.0</td>\n",
       "      <td>0.932526</td>\n",
       "      <td>0.237401</td>\n",
       "      <td>0.256287</td>\n",
       "      <td>0.330387</td>\n",
       "      <td>0.330752</td>\n",
       "      <td>0.397404</td>\n",
       "      <td>0.004119</td>\n",
       "      <td>0.015614</td>\n",
       "      <td>...</td>\n",
       "      <td>0.308271</td>\n",
       "      <td>0.400488</td>\n",
       "      <td>0.394684</td>\n",
       "      <td>0.417823</td>\n",
       "      <td>0.301188</td>\n",
       "      <td>0.352717</td>\n",
       "      <td>0.443229</td>\n",
       "      <td>0.242132</td>\n",
       "      <td>0.290525</td>\n",
       "      <td>0.616852</td>\n",
       "    </tr>\n",
       "    <tr>\n",
       "      <th>543</th>\n",
       "      <td>0.721116</td>\n",
       "      <td>0.0</td>\n",
       "      <td>0.932295</td>\n",
       "      <td>0.730834</td>\n",
       "      <td>0.294896</td>\n",
       "      <td>0.460773</td>\n",
       "      <td>0.461283</td>\n",
       "      <td>0.23023</td>\n",
       "      <td>0.014228</td>\n",
       "      <td>0.029049</td>\n",
       "      <td>...</td>\n",
       "      <td>0.229124</td>\n",
       "      <td>0.204572</td>\n",
       "      <td>0.312652</td>\n",
       "      <td>0.189852</td>\n",
       "      <td>0.034476</td>\n",
       "      <td>0.018081</td>\n",
       "      <td>0.018113</td>\n",
       "      <td>0.106771</td>\n",
       "      <td>0.093726</td>\n",
       "      <td>0.015485</td>\n",
       "    </tr>\n",
       "    <tr>\n",
       "      <th>704</th>\n",
       "      <td>0.932271</td>\n",
       "      <td>0.0</td>\n",
       "      <td>0.943587</td>\n",
       "      <td>0.063628</td>\n",
       "      <td>0.389522</td>\n",
       "      <td>0.426519</td>\n",
       "      <td>0.426991</td>\n",
       "      <td>0.263701</td>\n",
       "      <td>0.021861</td>\n",
       "      <td>0.042847</td>\n",
       "      <td>...</td>\n",
       "      <td>0.219967</td>\n",
       "      <td>0.251334</td>\n",
       "      <td>0.305805</td>\n",
       "      <td>0.457843</td>\n",
       "      <td>0.437041</td>\n",
       "      <td>0.367245</td>\n",
       "      <td>0.155531</td>\n",
       "      <td>0.034342</td>\n",
       "      <td>0.032701</td>\n",
       "      <td>0.022067</td>\n",
       "    </tr>\n",
       "  </tbody>\n",
       "</table>\n",
       "<p>227 rows × 754 columns</p>\n",
       "</div>"
      ],
      "text/plain": [
       "0          id gender       PPE       DFA      RPDE numPulses numPeriodsPulses  \\\n",
       "322  0.426295    1.0  0.929212  0.690076  0.216772  0.280663         0.280973   \n",
       "588  0.780876    0.0  0.904689  0.121369  0.230385  0.509392         0.509956   \n",
       "468  0.621514    1.0  0.071503  0.278353  0.599863       1.0              1.0   \n",
       "527  0.697211    0.0  0.931394  0.039982  0.327284  0.553591         0.554204   \n",
       "212  0.278884    0.0  0.904758  0.629132  0.219394  0.670718          0.67146   \n",
       "..        ...    ...       ...       ...       ...       ...              ...   \n",
       "675  0.896414    0.0  0.878087  0.684156  0.360328  0.327072         0.327434   \n",
       "303   0.40239    1.0  0.850839  0.936631  0.337341  0.358011         0.358407   \n",
       "196  0.258964    1.0  0.932526  0.237401  0.256287  0.330387         0.330752   \n",
       "543  0.721116    0.0  0.932295  0.730834  0.294896  0.460773         0.461283   \n",
       "704  0.932271    0.0  0.943587  0.063628  0.389522  0.426519         0.426991   \n",
       "\n",
       "0   meanPeriodPulses stdDevPeriodPulses locPctJitter  ...  \\\n",
       "322          0.49931           0.012817     0.045025  ...   \n",
       "588         0.190304           0.003168     0.012709  ...   \n",
       "468              0.0           0.341725      0.02215  ...   \n",
       "527         0.159493            0.00697     0.015614  ...   \n",
       "212         0.097677           0.008986     0.016703  ...   \n",
       "..               ...                ...          ...  ...   \n",
       "675         0.402856           0.012788     0.028322  ...   \n",
       "303         0.351524           0.023388      0.12963  ...   \n",
       "196         0.397404           0.004119     0.015614  ...   \n",
       "543          0.23023           0.014228     0.029049  ...   \n",
       "704         0.263701           0.021861     0.042847  ...   \n",
       "\n",
       "0   tqwt_kurtosisValue_dec_27 tqwt_kurtosisValue_dec_28  \\\n",
       "322                  0.029985                  0.018583   \n",
       "588                  0.154249                  0.135568   \n",
       "468                  0.079055                  0.077406   \n",
       "527                  0.003634                  0.004384   \n",
       "212                  0.007767                  0.014919   \n",
       "..                        ...                       ...   \n",
       "675                  0.006975                  0.479755   \n",
       "303                  0.066672                  0.010713   \n",
       "196                  0.308271                  0.400488   \n",
       "543                  0.229124                  0.204572   \n",
       "704                  0.219967                  0.251334   \n",
       "\n",
       "0   tqwt_kurtosisValue_dec_29 tqwt_kurtosisValue_dec_30  \\\n",
       "322                  0.010395                  0.010864   \n",
       "588                  0.046662                  0.019905   \n",
       "468                  0.028989                  0.027525   \n",
       "527                  0.012717                  0.100693   \n",
       "212                  0.009547                  0.012727   \n",
       "..                        ...                       ...   \n",
       "675                  0.299266                  0.065909   \n",
       "303                  0.010636                   0.31061   \n",
       "196                  0.394684                  0.417823   \n",
       "543                  0.312652                  0.189852   \n",
       "704                  0.305805                  0.457843   \n",
       "\n",
       "0   tqwt_kurtosisValue_dec_31 tqwt_kurtosisValue_dec_32  \\\n",
       "322                  0.009189                  0.024004   \n",
       "588                  0.013821                   0.00651   \n",
       "468                  0.034155                  0.038848   \n",
       "527                  0.251594                  0.503306   \n",
       "212                  0.009129                  0.006338   \n",
       "..                        ...                       ...   \n",
       "675                  0.015394                  0.021477   \n",
       "303                  0.194189                  0.053969   \n",
       "196                  0.301188                  0.352717   \n",
       "543                  0.034476                  0.018081   \n",
       "704                  0.437041                  0.367245   \n",
       "\n",
       "0   tqwt_kurtosisValue_dec_33 tqwt_kurtosisValue_dec_34  \\\n",
       "322                  0.016599                  0.022622   \n",
       "588                  0.014343                  0.009251   \n",
       "468                  0.081321                  0.105898   \n",
       "527                  0.676027                  0.770045   \n",
       "212                  0.022319                  0.026585   \n",
       "..                        ...                       ...   \n",
       "675                  0.039342                  0.025666   \n",
       "303                  0.047327                  0.097141   \n",
       "196                  0.443229                  0.242132   \n",
       "543                  0.018113                  0.106771   \n",
       "704                  0.155531                  0.034342   \n",
       "\n",
       "0   tqwt_kurtosisValue_dec_35 tqwt_kurtosisValue_dec_36  \n",
       "322                  0.025075                  0.005376  \n",
       "588                  0.007586                  0.011134  \n",
       "468                  0.041782                  0.061598  \n",
       "527                   0.77666                  0.555742  \n",
       "212                  0.128678                  0.052745  \n",
       "..                        ...                       ...  \n",
       "675                  0.020387                  0.010113  \n",
       "303                   0.05696                  0.052128  \n",
       "196                  0.290525                  0.616852  \n",
       "543                  0.093726                  0.015485  \n",
       "704                  0.032701                  0.022067  \n",
       "\n",
       "[227 rows x 754 columns]"
      ]
     },
     "execution_count": 68,
     "metadata": {},
     "output_type": "execute_result"
    }
   ],
   "source": [
    "x_test"
   ]
  },
  {
   "cell_type": "code",
   "execution_count": 69,
   "metadata": {},
   "outputs": [],
   "source": [
    "from sklearn.model_selection import ShuffleSplit, cross_val_score\n",
    "from sklearn.metrics import accuracy_score\n",
    "from sklearn.metrics import confusion_matrix\n",
    "import seaborn as sns\n",
    "\n",
    "\n",
    "cv = ShuffleSplit(n_splits=10, random_state=None) \n",
    "def runCrossVal(model):\n",
    "    score = cross_val_score(model, x_train, y_train, cv=cv).mean() * 100\n",
    "    print(f\"accuracy on cross_val_score: {score}\")\n",
    "    return model\n",
    "\n",
    "def runOnTrain(model):\n",
    "    model.fit(x_train, y_train)\n",
    "    predicted_y = model.predict(x_train)\n",
    "    print(f\"accuracy on train: {accuracy_score(y_true=y_train, y_pred=predicted_y)*100}\")\n",
    "\n",
    "def runModelOnTest(model):\n",
    "    runCrossVal(model)\n",
    "    runOnTrain(model)\n",
    "    model.fit(x_train, y_train)\n",
    "    predicted_y = model.predict(x_test)\n",
    "    print(f\"accuracy on test data: {accuracy_score(y_true=y_test, y_pred=predicted_y)*100}\")\n",
    "    return predicted_y, y_test  \n",
    "\n",
    "def confusionMatrix(predicted_y, y_test):\n",
    "    cf_matrix = confusion_matrix(y_test, predicted_y)\n",
    "    sns.heatmap(cf_matrix, annot=True)"
   ]
  },
  {
   "cell_type": "markdown",
   "metadata": {},
   "source": [
    "# Decision Tree"
   ]
  },
  {
   "cell_type": "markdown",
   "metadata": {},
   "source": [
    "#### in this model. in most of the times the model overfit. but with just a little playing with parameter we can improve that. and later when we used PCA to get out of this curse of dimensionality it gets much much better."
   ]
  },
  {
   "cell_type": "code",
   "execution_count": 70,
   "metadata": {},
   "outputs": [],
   "source": [
    "from sklearn.tree import DecisionTreeClassifier as DecisionTree"
   ]
  },
  {
   "cell_type": "code",
   "execution_count": 71,
   "metadata": {},
   "outputs": [
    {
     "name": "stdout",
     "output_type": "stream",
     "text": [
      "accuracy on cross_val_score: 77.54716981132074\n",
      "accuracy on train: 100.0\n",
      "accuracy on test data: 82.81938325991189\n"
     ]
    },
    {
     "data": {
      "image/png": "[encoded data removed]",
      "text/plain": [
       "<Figure size 432x288 with 2 Axes>"
      ]
     },
     "metadata": {
      "needs_background": "light"
     },
     "output_type": "display_data"
    }
   ],
   "source": [
    "predicted_y, y_test = runModelOnTest(DecisionTree())\n",
    "confusionMatrix(predicted_y, y_test)"
   ]
  },
  {
   "cell_type": "code",
   "execution_count": 72,
   "metadata": {},
   "outputs": [
    {
     "name": "stdout",
     "output_type": "stream",
     "text": [
      "accuracy on cross_val_score: 81.1320754716981\n",
      "accuracy on train: 100.0\n",
      "accuracy on test data: 80.1762114537445\n"
     ]
    },
    {
     "data": {
      "image/png": "[encoded data removed]",
      "text/plain": [
       "<Figure size 432x288 with 2 Axes>"
      ]
     },
     "metadata": {
      "needs_background": "light"
     },
     "output_type": "display_data"
    }
   ],
   "source": [
    "predicted_y, y_test = runModelOnTest(DecisionTree(criterion='entropy', max_depth=10))\n",
    "confusionMatrix(predicted_y, y_test)"
   ]
  },
  {
   "cell_type": "code",
   "execution_count": 73,
   "metadata": {},
   "outputs": [
    {
     "name": "stdout",
     "output_type": "stream",
     "text": [
      "accuracy on cross_val_score: 81.88679245283019\n",
      "accuracy on train: 100.0\n",
      "accuracy on test data: 80.1762114537445\n"
     ]
    },
    {
     "data": {
      "image/png": "[encoded data removed]",
      "text/plain": [
       "<Figure size 432x288 with 2 Axes>"
      ]
     },
     "metadata": {
      "needs_background": "light"
     },
     "output_type": "display_data"
    }
   ],
   "source": [
    "predicted_y, y_test = runModelOnTest(DecisionTree(splitter=\"random\", max_depth=10))\n",
    "confusionMatrix(predicted_y, y_test)"
   ]
  },
  {
   "cell_type": "code",
   "execution_count": 74,
   "metadata": {},
   "outputs": [
    {
     "name": "stdout",
     "output_type": "stream",
     "text": [
      "accuracy on cross_val_score: 80.9433962264151\n",
      "accuracy on train: 99.24385633270322\n",
      "accuracy on test data: 82.81938325991189\n"
     ]
    },
    {
     "data": {
      "image/png": "[encoded data removed]",
      "text/plain": [
       "<Figure size 432x288 with 2 Axes>"
      ]
     },
     "metadata": {
      "needs_background": "light"
     },
     "output_type": "display_data"
    }
   ],
   "source": [
    "predicted_y, y_test = runModelOnTest(DecisionTree(min_samples_split=3, max_depth=10))\n",
    "confusionMatrix(predicted_y, y_test)"
   ]
  },
  {
   "cell_type": "markdown",
   "metadata": {},
   "source": [
    "### This one seems better anyway"
   ]
  },
  {
   "cell_type": "code",
   "execution_count": 75,
   "metadata": {},
   "outputs": [
    {
     "name": "stdout",
     "output_type": "stream",
     "text": [
      "accuracy on cross_val_score: 78.11320754716982\n",
      "accuracy on train: 96.78638941398866\n",
      "accuracy on test data: 80.1762114537445\n"
     ]
    },
    {
     "data": {
      "image/png": "[encoded data removed]",
      "text/plain": [
       "<Figure size 432x288 with 2 Axes>"
      ]
     },
     "metadata": {
      "needs_background": "light"
     },
     "output_type": "display_data"
    }
   ],
   "source": [
    "predicted_y, y_test = runModelOnTest(DecisionTree(min_samples_leaf=2, max_depth=8))\n",
    "confusionMatrix(predicted_y, y_test)"
   ]
  },
  {
   "cell_type": "markdown",
   "metadata": {},
   "source": [
    "## KNN"
   ]
  },
  {
   "cell_type": "code",
   "execution_count": 76,
   "metadata": {},
   "outputs": [
    {
     "name": "stdout",
     "output_type": "stream",
     "text": [
      "accuracy on cross_val_score: 83.9622641509434\n",
      "accuracy on train: 92.62759924385632\n",
      "accuracy on test data: 86.34361233480176\n"
     ]
    },
    {
     "data": {
      "image/png": "[encoded data removed]",
      "text/plain": [
       "<Figure size 432x288 with 2 Axes>"
      ]
     },
     "metadata": {
      "needs_background": "light"
     },
     "output_type": "display_data"
    }
   ],
   "source": [
    "from sklearn.neighbors import KNeighborsClassifier as KNN\n",
    "predicted_y, y_test = runModelOnTest(KNN())\n",
    "confusionMatrix(predicted_y, y_test)"
   ]
  },
  {
   "cell_type": "markdown",
   "metadata": {},
   "source": [
    "### For KNN this one seems better.\n",
    "### first, 84% is not that bad for test.\n",
    "### also the accuracy over the train(91) is closer to accuracy over test than the others(we can say that the model hasn't overfit) "
   ]
  },
  {
   "cell_type": "code",
   "execution_count": 77,
   "metadata": {},
   "outputs": [
    {
     "name": "stdout",
     "output_type": "stream",
     "text": [
      "accuracy on cross_val_score: 84.71698113207546\n",
      "accuracy on train: 91.68241965973534\n",
      "accuracy on test data: 84.58149779735683\n"
     ]
    },
    {
     "data": {
      "image/png": "[encoded data removed]",
      "text/plain": [
       "<Figure size 432x288 with 2 Axes>"
      ]
     },
     "metadata": {
      "needs_background": "light"
     },
     "output_type": "display_data"
    }
   ],
   "source": [
    "predicted_y, y_test = runModelOnTest(KNN(6))\n",
    "confusionMatrix(predicted_y, y_test)"
   ]
  },
  {
   "cell_type": "code",
   "execution_count": 78,
   "metadata": {},
   "outputs": [
    {
     "name": "stdout",
     "output_type": "stream",
     "text": [
      "accuracy on cross_val_score: 84.71698113207549\n",
      "accuracy on train: 89.79206049149339\n",
      "accuracy on test data: 85.90308370044053\n"
     ]
    },
    {
     "data": {
      "image/png": "[encoded data removed]",
      "text/plain": [
       "<Figure size 432x288 with 2 Axes>"
      ]
     },
     "metadata": {
      "needs_background": "light"
     },
     "output_type": "display_data"
    }
   ],
   "source": [
    "predicted_y, y_test = runModelOnTest(KNN(7))\n",
    "confusionMatrix(predicted_y, y_test)"
   ]
  },
  {
   "cell_type": "code",
   "execution_count": 79,
   "metadata": {},
   "outputs": [
    {
     "name": "stdout",
     "output_type": "stream",
     "text": [
      "accuracy on cross_val_score: 85.47169811320755\n",
      "accuracy on train: 94.5179584120983\n",
      "accuracy on test data: 86.78414096916299\n"
     ]
    },
    {
     "data": {
      "image/png": "[encoded data removed]",
      "text/plain": [
       "<Figure size 432x288 with 2 Axes>"
      ]
     },
     "metadata": {
      "needs_background": "light"
     },
     "output_type": "display_data"
    }
   ],
   "source": [
    "predicted_y, y_test = runModelOnTest(KNN(4))\n",
    "confusionMatrix(predicted_y, y_test)"
   ]
  },
  {
   "cell_type": "code",
   "execution_count": 80,
   "metadata": {},
   "outputs": [
    {
     "name": "stdout",
     "output_type": "stream",
     "text": [
      "accuracy on cross_val_score: 85.0943396226415\n",
      "accuracy on train: 97.54253308128544\n",
      "accuracy on test data: 88.98678414096916\n"
     ]
    },
    {
     "data": {
      "image/png": "[encoded data removed]",
      "text/plain": [
       "<Figure size 432x288 with 2 Axes>"
      ]
     },
     "metadata": {
      "needs_background": "light"
     },
     "output_type": "display_data"
    }
   ],
   "source": [
    "predicted_y, y_test = runModelOnTest(KNN(3))\n",
    "confusionMatrix(predicted_y, y_test)"
   ]
  },
  {
   "cell_type": "code",
   "execution_count": 81,
   "metadata": {},
   "outputs": [
    {
     "name": "stdout",
     "output_type": "stream",
     "text": [
      "accuracy on cross_val_score: 92.26415094339622\n",
      "accuracy on train: 96.78638941398866\n",
      "accuracy on test data: 85.46255506607929\n"
     ]
    },
    {
     "data": {
      "image/png": "[encoded data removed]",
      "text/plain": [
       "<Figure size 432x288 with 2 Axes>"
      ]
     },
     "metadata": {
      "needs_background": "light"
     },
     "output_type": "display_data"
    }
   ],
   "source": [
    "predicted_y, y_test = runModelOnTest(KNN(2))\n",
    "confusionMatrix(predicted_y, y_test)"
   ]
  },
  {
   "cell_type": "code",
   "execution_count": 82,
   "metadata": {},
   "outputs": [
    {
     "name": "stdout",
     "output_type": "stream",
     "text": [
      "accuracy on cross_val_score: 92.64150943396226\n",
      "accuracy on train: 100.0\n",
      "accuracy on test data: 92.07048458149781\n"
     ]
    },
    {
     "data": {
      "image/png": "[encoded data removed]",
      "text/plain": [
       "<Figure size 432x288 with 2 Axes>"
      ]
     },
     "metadata": {
      "needs_background": "light"
     },
     "output_type": "display_data"
    }
   ],
   "source": [
    "predicted_y, y_test = runModelOnTest(KNN(1))\n",
    "confusionMatrix(predicted_y, y_test)"
   ]
  },
  {
   "cell_type": "markdown",
   "metadata": {},
   "source": [
    "## SVM"
   ]
  },
  {
   "cell_type": "markdown",
   "metadata": {},
   "source": [
    "### also for the SVC model the default parameter seems ok and is close to some other set of paramters below. both accuracy over train and test are close and not bad(84% and 87%) so model hasn't overfit"
   ]
  },
  {
   "cell_type": "code",
   "execution_count": 83,
   "metadata": {},
   "outputs": [
    {
     "name": "stdout",
     "output_type": "stream",
     "text": [
      "accuracy on cross_val_score: 83.58490566037737\n",
      "accuracy on train: 87.14555765595463\n",
      "accuracy on test data: 84.14096916299559\n"
     ]
    },
    {
     "data": {
      "image/png": "[encoded data removed]",
      "text/plain": [
       "<Figure size 432x288 with 2 Axes>"
      ]
     },
     "metadata": {
      "needs_background": "light"
     },
     "output_type": "display_data"
    }
   ],
   "source": [
    "from sklearn.svm import SVC\n",
    "predicted_y, y_test = runModelOnTest(SVC())\n",
    "confusionMatrix(predicted_y, y_test)"
   ]
  },
  {
   "cell_type": "code",
   "execution_count": 84,
   "metadata": {},
   "outputs": [
    {
     "name": "stdout",
     "output_type": "stream",
     "text": [
      "accuracy on cross_val_score: 90.18867924528303\n",
      "accuracy on train: 95.65217391304348\n",
      "accuracy on test data: 85.02202643171806\n"
     ]
    },
    {
     "data": {
      "image/png": "[encoded data removed]",
      "text/plain": [
       "<Figure size 432x288 with 2 Axes>"
      ]
     },
     "metadata": {
      "needs_background": "light"
     },
     "output_type": "display_data"
    }
   ],
   "source": [
    "predicted_y, y_test = runModelOnTest(SVC(C=15))\n",
    "confusionMatrix(predicted_y, y_test)"
   ]
  },
  {
   "cell_type": "code",
   "execution_count": 85,
   "metadata": {},
   "outputs": [
    {
     "name": "stdout",
     "output_type": "stream",
     "text": [
      "accuracy on cross_val_score: 84.52830188679246\n",
      "accuracy on train: 88.27977315689981\n",
      "accuracy on test data: 84.58149779735683\n"
     ]
    },
    {
     "data": {
      "image/png": "[encoded data removed]",
      "text/plain": [
       "<Figure size 432x288 with 2 Axes>"
      ]
     },
     "metadata": {
      "needs_background": "light"
     },
     "output_type": "display_data"
    }
   ],
   "source": [
    "predicted_y, y_test = runModelOnTest(SVC(C=15, gamma=\"auto\"))\n",
    "confusionMatrix(predicted_y, y_test)"
   ]
  },
  {
   "cell_type": "code",
   "execution_count": 86,
   "metadata": {},
   "outputs": [
    {
     "name": "stdout",
     "output_type": "stream",
     "text": [
      "accuracy on cross_val_score: 84.71698113207549\n",
      "accuracy on train: 88.27977315689981\n",
      "accuracy on test data: 84.58149779735683\n"
     ]
    },
    {
     "data": {
      "image/png": "[encoded data removed]",
      "text/plain": [
       "<Figure size 432x288 with 2 Axes>"
      ]
     },
     "metadata": {
      "needs_background": "light"
     },
     "output_type": "display_data"
    }
   ],
   "source": [
    "predicted_y, y_test = runModelOnTest(SVC(C=15, gamma=\"auto\"))\n",
    "confusionMatrix(predicted_y, y_test)"
   ]
  },
  {
   "cell_type": "code",
   "execution_count": 87,
   "metadata": {},
   "outputs": [
    {
     "name": "stdout",
     "output_type": "stream",
     "text": [
      "accuracy on cross_val_score: 89.05660377358491\n",
      "accuracy on train: 95.65217391304348\n",
      "accuracy on test data: 85.02202643171806\n"
     ]
    },
    {
     "data": {
      "image/png": "[encoded data removed]",
      "text/plain": [
       "<Figure size 432x288 with 2 Axes>"
      ]
     },
     "metadata": {
      "needs_background": "light"
     },
     "output_type": "display_data"
    }
   ],
   "source": [
    "predicted_y, y_test = runModelOnTest(SVC(C=15, coef0=0.1))\n",
    "confusionMatrix(predicted_y, y_test)"
   ]
  },
  {
   "cell_type": "code",
   "execution_count": 88,
   "metadata": {},
   "outputs": [
    {
     "name": "stdout",
     "output_type": "stream",
     "text": [
      "accuracy on cross_val_score: 83.39622641509435\n",
      "accuracy on train: 100.0\n",
      "accuracy on test data: 83.25991189427313\n"
     ]
    },
    {
     "data": {
      "image/png": "[encoded data removed]",
      "text/plain": [
       "<Figure size 432x288 with 2 Axes>"
      ]
     },
     "metadata": {
      "needs_background": "light"
     },
     "output_type": "display_data"
    }
   ],
   "source": [
    "predicted_y, y_test = runModelOnTest(SVC(C=15, coef0=0.1, kernel=\"linear\"))\n",
    "confusionMatrix(predicted_y, y_test)"
   ]
  },
  {
   "cell_type": "code",
   "execution_count": 89,
   "metadata": {},
   "outputs": [
    {
     "name": "stdout",
     "output_type": "stream",
     "text": [
      "accuracy on cross_val_score: 75.84905660377358\n",
      "accuracy on train: 74.85822306238185\n",
      "accuracy on test data: 74.00881057268722\n"
     ]
    },
    {
     "data": {
      "image/png": "[encoded data removed]",
      "text/plain": [
       "<Figure size 432x288 with 2 Axes>"
      ]
     },
     "metadata": {
      "needs_background": "light"
     },
     "output_type": "display_data"
    }
   ],
   "source": [
    "predicted_y, y_test = runModelOnTest(SVC(C=2, coef0=0.1, kernel=\"sigmoid\"))\n",
    "confusionMatrix(predicted_y, y_test)"
   ]
  },
  {
   "cell_type": "markdown",
   "metadata": {},
   "source": [
    "## Random Forest"
   ]
  },
  {
   "cell_type": "markdown",
   "metadata": {},
   "source": [
    "### Random forest also overfit a lot. however we finally managed to avoid that using the \"max_depth\" parameter in the last cell"
   ]
  },
  {
   "cell_type": "code",
   "execution_count": 90,
   "metadata": {},
   "outputs": [
    {
     "name": "stdout",
     "output_type": "stream",
     "text": [
      "accuracy on cross_val_score: 89.62264150943398\n",
      "accuracy on train: 100.0\n",
      "accuracy on test data: 86.34361233480176\n"
     ]
    },
    {
     "data": {
      "image/png": "[encoded data removed]",
      "text/plain": [
       "<Figure size 432x288 with 2 Axes>"
      ]
     },
     "metadata": {
      "needs_background": "light"
     },
     "output_type": "display_data"
    }
   ],
   "source": [
    "from sklearn.ensemble import RandomForestClassifier as RandomForest\n",
    "predicted_y, y_test = runModelOnTest(RandomForest())\n",
    "confusionMatrix(predicted_y, y_test)"
   ]
  },
  {
   "cell_type": "code",
   "execution_count": 91,
   "metadata": {},
   "outputs": [
    {
     "name": "stdout",
     "output_type": "stream",
     "text": [
      "accuracy on cross_val_score: 86.41509433962264\n",
      "accuracy on train: 100.0\n",
      "accuracy on test data: 85.46255506607929\n"
     ]
    },
    {
     "data": {
      "image/png": "[encoded data removed]",
      "text/plain": [
       "<Figure size 432x288 with 2 Axes>"
      ]
     },
     "metadata": {
      "needs_background": "light"
     },
     "output_type": "display_data"
    }
   ],
   "source": [
    "predicted_y, y_test = runModelOnTest(RandomForest(n_estimators=150))\n",
    "confusionMatrix(predicted_y, y_test)"
   ]
  },
  {
   "cell_type": "code",
   "execution_count": 92,
   "metadata": {},
   "outputs": [
    {
     "name": "stdout",
     "output_type": "stream",
     "text": [
      "accuracy on cross_val_score: 88.30188679245283\n",
      "accuracy on train: 100.0\n",
      "accuracy on test data: 87.22466960352423\n"
     ]
    },
    {
     "data": {
      "image/png": "[encoded data removed]",
      "text/plain": [
       "<Figure size 432x288 with 2 Axes>"
      ]
     },
     "metadata": {
      "needs_background": "light"
     },
     "output_type": "display_data"
    }
   ],
   "source": [
    "predicted_y, y_test = runModelOnTest(RandomForest(n_estimators=80))\n",
    "confusionMatrix(predicted_y, y_test)"
   ]
  },
  {
   "cell_type": "code",
   "execution_count": 93,
   "metadata": {},
   "outputs": [
    {
     "name": "stdout",
     "output_type": "stream",
     "text": [
      "accuracy on cross_val_score: 89.24528301886794\n",
      "accuracy on train: 100.0\n",
      "accuracy on test data: 85.90308370044053\n"
     ]
    },
    {
     "data": {
      "image/png": "[encoded data removed]",
      "text/plain": [
       "<Figure size 432x288 with 2 Axes>"
      ]
     },
     "metadata": {
      "needs_background": "light"
     },
     "output_type": "display_data"
    }
   ],
   "source": [
    "predicted_y, y_test = runModelOnTest(RandomForest(criterion=\"entropy\"))\n",
    "confusionMatrix(predicted_y, y_test)"
   ]
  },
  {
   "cell_type": "code",
   "execution_count": 94,
   "metadata": {},
   "outputs": [
    {
     "name": "stdout",
     "output_type": "stream",
     "text": [
      "accuracy on cross_val_score: 85.47169811320755\n",
      "accuracy on train: 100.0\n",
      "accuracy on test data: 85.90308370044053\n"
     ]
    },
    {
     "data": {
      "image/png": "[encoded data removed]",
      "text/plain": [
       "<Figure size 432x288 with 2 Axes>"
      ]
     },
     "metadata": {
      "needs_background": "light"
     },
     "output_type": "display_data"
    }
   ],
   "source": [
    "predicted_y, y_test = runModelOnTest(RandomForest(criterion=\"entropy\", n_estimators=50))\n",
    "confusionMatrix(predicted_y, y_test)"
   ]
  },
  {
   "cell_type": "code",
   "execution_count": 95,
   "metadata": {},
   "outputs": [
    {
     "name": "stdout",
     "output_type": "stream",
     "text": [
      "accuracy on cross_val_score: 88.11320754716981\n",
      "accuracy on train: 99.8109640831758\n",
      "accuracy on test data: 85.46255506607929\n"
     ]
    },
    {
     "data": {
      "image/png": "[encoded data removed]",
      "text/plain": [
       "<Figure size 432x288 with 2 Axes>"
      ]
     },
     "metadata": {
      "needs_background": "light"
     },
     "output_type": "display_data"
    }
   ],
   "source": [
    "predicted_y, y_test = runModelOnTest(RandomForest(criterion=\"entropy\", min_samples_split=2, max_depth=8))\n",
    "confusionMatrix(predicted_y, y_test)"
   ]
  },
  {
   "cell_type": "code",
   "execution_count": 96,
   "metadata": {},
   "outputs": [
    {
     "name": "stdout",
     "output_type": "stream",
     "text": [
      "accuracy on cross_val_score: 85.09433962264153\n",
      "accuracy on train: 98.67674858223062\n",
      "accuracy on test data: 84.14096916299559\n"
     ]
    },
    {
     "data": {
      "image/png": "[encoded data removed]",
      "text/plain": [
       "<Figure size 432x288 with 2 Axes>"
      ]
     },
     "metadata": {
      "needs_background": "light"
     },
     "output_type": "display_data"
    }
   ],
   "source": [
    "predicted_y, y_test = runModelOnTest(RandomForest(criterion=\"entropy\", min_samples_split=2, max_depth=6))\n",
    "confusionMatrix(predicted_y, y_test)"
   ]
  },
  {
   "cell_type": "markdown",
   "metadata": {},
   "source": [
    "#### Here it seems that max_depth of 4 is useful to avoid the model from overfitting"
   ]
  },
  {
   "cell_type": "code",
   "execution_count": 97,
   "metadata": {},
   "outputs": [
    {
     "name": "stdout",
     "output_type": "stream",
     "text": [
      "accuracy on cross_val_score: 84.15094339622642\n",
      "accuracy on train: 90.92627599243856\n",
      "accuracy on test data: 83.70044052863436\n"
     ]
    },
    {
     "data": {
      "image/png": "[encoded data removed]",
      "text/plain": [
       "<Figure size 432x288 with 2 Axes>"
      ]
     },
     "metadata": {
      "needs_background": "light"
     },
     "output_type": "display_data"
    }
   ],
   "source": [
    "y_predict, y_test = runModelOnTest(RandomForest(criterion=\"entropy\", min_samples_split=2, max_depth=4))\n",
    "confusionMatrix(predicted_y, y_test)"
   ]
  },
  {
   "cell_type": "markdown",
   "metadata": {},
   "source": [
    "# PCA"
   ]
  },
  {
   "cell_type": "code",
   "execution_count": 98,
   "metadata": {},
   "outputs": [
    {
     "data": {
      "text/html": [
       "<div>\n",
       "<style scoped>\n",
       "    .dataframe tbody tr th:only-of-type {\n",
       "        vertical-align: middle;\n",
       "    }\n",
       "\n",
       "    .dataframe tbody tr th {\n",
       "        vertical-align: top;\n",
       "    }\n",
       "\n",
       "    .dataframe thead th {\n",
       "        text-align: right;\n",
       "    }\n",
       "</style>\n",
       "<table border=\"1\" class=\"dataframe\">\n",
       "  <thead>\n",
       "    <tr style=\"text-align: right;\">\n",
       "      <th></th>\n",
       "      <th>0</th>\n",
       "      <th>1</th>\n",
       "      <th>2</th>\n",
       "    </tr>\n",
       "  </thead>\n",
       "  <tbody>\n",
       "    <tr>\n",
       "      <th>0</th>\n",
       "      <td>-1.345269</td>\n",
       "      <td>-0.561286</td>\n",
       "      <td>-1.013519</td>\n",
       "    </tr>\n",
       "    <tr>\n",
       "      <th>1</th>\n",
       "      <td>-1.457767</td>\n",
       "      <td>-0.497860</td>\n",
       "      <td>-1.117411</td>\n",
       "    </tr>\n",
       "    <tr>\n",
       "      <th>2</th>\n",
       "      <td>-1.929643</td>\n",
       "      <td>-0.181124</td>\n",
       "      <td>-0.952128</td>\n",
       "    </tr>\n",
       "    <tr>\n",
       "      <th>3</th>\n",
       "      <td>-0.387073</td>\n",
       "      <td>-1.768126</td>\n",
       "      <td>1.814325</td>\n",
       "    </tr>\n",
       "    <tr>\n",
       "      <th>4</th>\n",
       "      <td>-0.162711</td>\n",
       "      <td>-1.188957</td>\n",
       "      <td>1.912331</td>\n",
       "    </tr>\n",
       "    <tr>\n",
       "      <th>...</th>\n",
       "      <td>...</td>\n",
       "      <td>...</td>\n",
       "      <td>...</td>\n",
       "    </tr>\n",
       "    <tr>\n",
       "      <th>751</th>\n",
       "      <td>3.326896</td>\n",
       "      <td>-0.101502</td>\n",
       "      <td>-0.079766</td>\n",
       "    </tr>\n",
       "    <tr>\n",
       "      <th>752</th>\n",
       "      <td>2.175160</td>\n",
       "      <td>0.245812</td>\n",
       "      <td>1.182430</td>\n",
       "    </tr>\n",
       "    <tr>\n",
       "      <th>753</th>\n",
       "      <td>1.210299</td>\n",
       "      <td>-0.037975</td>\n",
       "      <td>0.001728</td>\n",
       "    </tr>\n",
       "    <tr>\n",
       "      <th>754</th>\n",
       "      <td>0.793806</td>\n",
       "      <td>-0.622370</td>\n",
       "      <td>0.119452</td>\n",
       "    </tr>\n",
       "    <tr>\n",
       "      <th>755</th>\n",
       "      <td>0.730732</td>\n",
       "      <td>-0.704891</td>\n",
       "      <td>-0.010727</td>\n",
       "    </tr>\n",
       "  </tbody>\n",
       "</table>\n",
       "<p>756 rows × 3 columns</p>\n",
       "</div>"
      ],
      "text/plain": [
       "            0         1         2\n",
       "0   -1.345269 -0.561286 -1.013519\n",
       "1   -1.457767 -0.497860 -1.117411\n",
       "2   -1.929643 -0.181124 -0.952128\n",
       "3   -0.387073 -1.768126  1.814325\n",
       "4   -0.162711 -1.188957  1.912331\n",
       "..        ...       ...       ...\n",
       "751  3.326896 -0.101502 -0.079766\n",
       "752  2.175160  0.245812  1.182430\n",
       "753  1.210299 -0.037975  0.001728\n",
       "754  0.793806 -0.622370  0.119452\n",
       "755  0.730732 -0.704891 -0.010727\n",
       "\n",
       "[756 rows x 3 columns]"
      ]
     },
     "execution_count": 98,
     "metadata": {},
     "output_type": "execute_result"
    }
   ],
   "source": [
    "from sklearn.decomposition import PCA\n",
    "\n",
    "pca = PCA(n_components=3)\n",
    "X = pd.DataFrame(pca.fit_transform(X))\n",
    "X"
   ]
  },
  {
   "cell_type": "code",
   "execution_count": 99,
   "metadata": {},
   "outputs": [],
   "source": [
    "x_train, x_test, y_train, y_test = train_test_split(X, Y, test_size=0.3, random_state=None)"
   ]
  },
  {
   "cell_type": "markdown",
   "metadata": {},
   "source": [
    "# Decision Tree"
   ]
  },
  {
   "cell_type": "code",
   "execution_count": 104,
   "metadata": {},
   "outputs": [
    {
     "name": "stdout",
     "output_type": "stream",
     "text": [
      "accuracy on cross_val_score: 72.26415094339622\n",
      "accuracy on train: 92.43856332703214\n",
      "accuracy on test data: 78.41409691629956\n"
     ]
    },
    {
     "data": {
      "image/png": "[encoded data removed]",
      "text/plain": [
       "<Figure size 432x288 with 2 Axes>"
      ]
     },
     "metadata": {
      "needs_background": "light"
     },
     "output_type": "display_data"
    }
   ],
   "source": [
    "predicted_y, y_test = runModelOnTest(DecisionTree(min_samples_leaf=2, max_depth=8))\n",
    "confusionMatrix(predicted_y, y_test)"
   ]
  },
  {
   "cell_type": "markdown",
   "metadata": {},
   "source": [
    "## KNN"
   ]
  },
  {
   "cell_type": "code",
   "execution_count": 111,
   "metadata": {},
   "outputs": [
    {
     "name": "stdout",
     "output_type": "stream",
     "text": [
      "accuracy on cross_val_score: 77.16981132075473\n",
      "accuracy on train: 87.90170132325142\n",
      "accuracy on test data: 78.8546255506608\n"
     ]
    },
    {
     "data": {
      "image/png": "[encoded data removed]",
      "text/plain": [
       "<Figure size 432x288 with 2 Axes>"
      ]
     },
     "metadata": {
      "needs_background": "light"
     },
     "output_type": "display_data"
    }
   ],
   "source": [
    "predicted_y, y_test = runModelOnTest(KNN(3))\n",
    "confusionMatrix(predicted_y, y_test)"
   ]
  },
  {
   "cell_type": "markdown",
   "metadata": {},
   "source": [
    "## SVM"
   ]
  },
  {
   "cell_type": "code",
   "execution_count": 113,
   "metadata": {},
   "outputs": [
    {
     "name": "stdout",
     "output_type": "stream",
     "text": [
      "accuracy on cross_val_score: 79.0566037735849\n",
      "accuracy on train: 79.77315689981096\n",
      "accuracy on test data: 83.25991189427313\n"
     ]
    },
    {
     "data": {
      "image/png": "[encoded data removed]",
      "text/plain": [
       "<Figure size 432x288 with 2 Axes>"
      ]
     },
     "metadata": {
      "needs_background": "light"
     },
     "output_type": "display_data"
    }
   ],
   "source": [
    "predicted_y, y_test = runModelOnTest(SVC())\n",
    "confusionMatrix(predicted_y, y_test)"
   ]
  },
  {
   "cell_type": "markdown",
   "metadata": {},
   "source": [
    "## Random Forest"
   ]
  },
  {
   "cell_type": "code",
   "execution_count": 114,
   "metadata": {},
   "outputs": [
    {
     "name": "stdout",
     "output_type": "stream",
     "text": [
      "accuracy on cross_val_score: 75.66037735849058\n",
      "accuracy on train: 82.6086956521739\n",
      "accuracy on test data: 79.73568281938326\n"
     ]
    },
    {
     "data": {
      "image/png": "[encoded data removed]",
      "text/plain": [
       "<Figure size 432x288 with 2 Axes>"
      ]
     },
     "metadata": {
      "needs_background": "light"
     },
     "output_type": "display_data"
    }
   ],
   "source": [
    "predicted_y, y_test = runModelOnTest(RandomForest(criterion=\"entropy\", min_samples_split=2, max_depth=4))\n",
    "confusionMatrix(predicted_y, y_test)"
   ]
  },
  {
   "cell_type": "markdown",
   "metadata": {},
   "source": [
    "# BEFORE PCA:"
   ]
  },
  {
   "cell_type": "code",
   "execution_count": 18,
   "metadata": {},
   "outputs": [
    {
     "data": {
      "text/html": [
       "<div>\n",
       "<style scoped>\n",
       "    .dataframe tbody tr th:only-of-type {\n",
       "        vertical-align: middle;\n",
       "    }\n",
       "\n",
       "    .dataframe tbody tr th {\n",
       "        vertical-align: top;\n",
       "    }\n",
       "\n",
       "    .dataframe thead th {\n",
       "        text-align: right;\n",
       "    }\n",
       "</style>\n",
       "<table border=\"1\" class=\"dataframe\">\n",
       "  <thead>\n",
       "    <tr style=\"text-align: right;\">\n",
       "      <th></th>\n",
       "      <th>Model</th>\n",
       "      <th>train acc</th>\n",
       "      <th>Cross Val</th>\n",
       "      <th>Test</th>\n",
       "    </tr>\n",
       "  </thead>\n",
       "  <tbody>\n",
       "    <tr>\n",
       "      <th>0</th>\n",
       "      <td>Decision Tree</td>\n",
       "      <td>96.786</td>\n",
       "      <td>78.1132</td>\n",
       "      <td>80.1762</td>\n",
       "    </tr>\n",
       "    <tr>\n",
       "      <th>1</th>\n",
       "      <td>KNN</td>\n",
       "      <td>91.682</td>\n",
       "      <td>84.7169</td>\n",
       "      <td>84.5814</td>\n",
       "    </tr>\n",
       "    <tr>\n",
       "      <th>2</th>\n",
       "      <td>SVM</td>\n",
       "      <td>87.145</td>\n",
       "      <td>83.5849</td>\n",
       "      <td>84.1409</td>\n",
       "    </tr>\n",
       "    <tr>\n",
       "      <th>3</th>\n",
       "      <td>Random Forst</td>\n",
       "      <td>90.926</td>\n",
       "      <td>84.1509</td>\n",
       "      <td>83.7004</td>\n",
       "    </tr>\n",
       "  </tbody>\n",
       "</table>\n",
       "</div>"
      ],
      "text/plain": [
       "           Model  train acc  Cross Val     Test\n",
       "0  Decision Tree     96.786    78.1132  80.1762\n",
       "1            KNN     91.682    84.7169  84.5814\n",
       "2            SVM     87.145    83.5849  84.1409\n",
       "3   Random Forst     90.926    84.1509  83.7004"
      ]
     },
     "execution_count": 18,
     "metadata": {},
     "output_type": "execute_result"
    }
   ],
   "source": [
    "d = pd.DataFrame({\"Model\": [\"Decision Tree\", \"KNN\", \"SVM\", \"Random Forst\"],\n",
    "                  \"train acc\": [96.786, 91.682, 87.145, 90.926],\n",
    "                  \"Cross Val\": [78.1132, 84.7169, 83.5849, 84.1509],\n",
    "                  \"Test\": [80.1762, 84.5814, 84.1409, 83.7004]})\n",
    "d"
   ]
  },
  {
   "cell_type": "code",
   "execution_count": 19,
   "metadata": {},
   "outputs": [],
   "source": [
    "import matplotlib.pyplot as plt"
   ]
  },
  {
   "cell_type": "code",
   "execution_count": 20,
   "metadata": {},
   "outputs": [
    {
     "data": {
      "text/plain": [
       "<matplotlib.collections.PathCollection at 0x7f9f90298f40>"
      ]
     },
     "execution_count": 20,
     "metadata": {},
     "output_type": "execute_result"
    },
    {
     "data": {
      "image/png": "[encoded data removed]",
      "text/plain": [
       "<Figure size 432x288 with 1 Axes>"
      ]
     },
     "metadata": {
      "needs_background": "light"
     },
     "output_type": "display_data"
    }
   ],
   "source": [
    "plt.scatter(d[\"Model\"], d[\"train acc\"])"
   ]
  },
  {
   "cell_type": "code",
   "execution_count": 21,
   "metadata": {},
   "outputs": [
    {
     "data": {
      "text/plain": [
       "<matplotlib.collections.PathCollection at 0x7f9f9027a8b0>"
      ]
     },
     "execution_count": 21,
     "metadata": {},
     "output_type": "execute_result"
    },
    {
     "data": {
      "image/png": "[encoded data removed]",
      "text/plain": [
       "<Figure size 432x288 with 1 Axes>"
      ]
     },
     "metadata": {
      "needs_background": "light"
     },
     "output_type": "display_data"
    }
   ],
   "source": [
    "plt.scatter(d[\"Model\"], d[\"Cross Val\"])"
   ]
  },
  {
   "cell_type": "code",
   "execution_count": 22,
   "metadata": {},
   "outputs": [
    {
     "data": {
      "text/plain": [
       "<matplotlib.collections.PathCollection at 0x7f9f901df460>"
      ]
     },
     "execution_count": 22,
     "metadata": {},
     "output_type": "execute_result"
    },
    {
     "data": {
      "image/png": "[encoded data removed]",
      "text/plain": [
       "<Figure size 432x288 with 1 Axes>"
      ]
     },
     "metadata": {
      "needs_background": "light"
     },
     "output_type": "display_data"
    }
   ],
   "source": [
    "plt.scatter(d[\"Model\"], d[\"Test\"])"
   ]
  },
  {
   "cell_type": "markdown",
   "metadata": {},
   "source": [
    "# AFTER PCA"
   ]
  },
  {
   "cell_type": "code",
   "execution_count": 3,
   "metadata": {},
   "outputs": [
    {
     "data": {
      "text/html": [
       "<div>\n",
       "<style scoped>\n",
       "    .dataframe tbody tr th:only-of-type {\n",
       "        vertical-align: middle;\n",
       "    }\n",
       "\n",
       "    .dataframe tbody tr th {\n",
       "        vertical-align: top;\n",
       "    }\n",
       "\n",
       "    .dataframe thead th {\n",
       "        text-align: right;\n",
       "    }\n",
       "</style>\n",
       "<table border=\"1\" class=\"dataframe\">\n",
       "  <thead>\n",
       "    <tr style=\"text-align: right;\">\n",
       "      <th></th>\n",
       "      <th>Model</th>\n",
       "      <th>train acc</th>\n",
       "      <th>Cross Val</th>\n",
       "      <th>Test</th>\n",
       "    </tr>\n",
       "  </thead>\n",
       "  <tbody>\n",
       "    <tr>\n",
       "      <th>0</th>\n",
       "      <td>Decision Tree</td>\n",
       "      <td>92.4385</td>\n",
       "      <td>72.2641</td>\n",
       "      <td>78.4140</td>\n",
       "    </tr>\n",
       "    <tr>\n",
       "      <th>1</th>\n",
       "      <td>KNN</td>\n",
       "      <td>87.9017</td>\n",
       "      <td>77.1698</td>\n",
       "      <td>78.8546</td>\n",
       "    </tr>\n",
       "    <tr>\n",
       "      <th>2</th>\n",
       "      <td>SVM</td>\n",
       "      <td>79.7731</td>\n",
       "      <td>79.0566</td>\n",
       "      <td>83.2599</td>\n",
       "    </tr>\n",
       "    <tr>\n",
       "      <th>3</th>\n",
       "      <td>Random Forst</td>\n",
       "      <td>82.6086</td>\n",
       "      <td>75.6603</td>\n",
       "      <td>79.7356</td>\n",
       "    </tr>\n",
       "  </tbody>\n",
       "</table>\n",
       "</div>"
      ],
      "text/plain": [
       "           Model  train acc  Cross Val     Test\n",
       "0  Decision Tree    92.4385    72.2641  78.4140\n",
       "1            KNN    87.9017    77.1698  78.8546\n",
       "2            SVM    79.7731    79.0566  83.2599\n",
       "3   Random Forst    82.6086    75.6603  79.7356"
      ]
     },
     "execution_count": 3,
     "metadata": {},
     "output_type": "execute_result"
    }
   ],
   "source": [
    "d = pd.DataFrame({\"Model\": [\"Decision Tree\", \"KNN\", \"SVM\", \"Random Forst\"],\n",
    "              \"train acc\": [92.4385, 87.9017, 79.7731, 82.6086],\n",
    "              \"Cross Val\": [72.2641, 77.1698, 79.0566, 75.6603],\n",
    "              \"Test\": [78.4140, 78.8546, 83.2599, 79.7356]})\n",
    "d"
   ]
  },
  {
   "cell_type": "code",
   "execution_count": 23,
   "metadata": {},
   "outputs": [
    {
     "data": {
      "text/plain": [
       "<matplotlib.collections.PathCollection at 0x7f9f901aee80>"
      ]
     },
     "execution_count": 23,
     "metadata": {},
     "output_type": "execute_result"
    },
    {
     "data": {
      "image/png": "[encoded data removed]",
      "text/plain": [
       "<Figure size 432x288 with 1 Axes>"
      ]
     },
     "metadata": {
      "needs_background": "light"
     },
     "output_type": "display_data"
    }
   ],
   "source": [
    "plt.scatter(d[\"Model\"], d[\"train acc\"])"
   ]
  },
  {
   "cell_type": "code",
   "execution_count": 16,
   "metadata": {},
   "outputs": [
    {
     "data": {
      "text/plain": [
       "<matplotlib.collections.PathCollection at 0x7f9f9036a940>"
      ]
     },
     "execution_count": 16,
     "metadata": {},
     "output_type": "execute_result"
    },
    {
     "data": {
      "image/png": "[encoded data removed]",
      "text/plain": [
       "<Figure size 432x288 with 1 Axes>"
      ]
     },
     "metadata": {
      "needs_background": "light"
     },
     "output_type": "display_data"
    }
   ],
   "source": [
    "plt.scatter(d[\"Model\"], d[\"Cross Val\"])"
   ]
  },
  {
   "cell_type": "code",
   "execution_count": 17,
   "metadata": {},
   "outputs": [
    {
     "data": {
      "text/plain": [
       "<matplotlib.collections.PathCollection at 0x7f9f90308850>"
      ]
     },
     "execution_count": 17,
     "metadata": {},
     "output_type": "execute_result"
    },
    {
     "data": {
      "image/png": "[encoded data removed]",
      "text/plain": [
       "<Figure size 432x288 with 1 Axes>"
      ]
     },
     "metadata": {
      "needs_background": "light"
     },
     "output_type": "display_data"
    }
   ],
   "source": [
    "plt.scatter(d[\"Model\"], d[\"Test\"])"
   ]
  },
  {
   "cell_type": "markdown",
   "metadata": {},
   "source": [
    "# as you can see we can conclude that PCA can potentially reduce accuracy becase we're going to some lower-dimentional space and lose some information.\n",
    "# so it's rational to get lower accuracy"
   ]
  }
 ],
 "metadata": {
  "interpreter": {
   "hash": "916dbcbb3f70747c44a77c7bcd40155683ae19c65e1c03b4aa3499c5328201f1"
  },
  "kernelspec": {
   "display_name": "Python 3 (ipykernel)",
   "language": "python",
   "name": "python3"
  },
  "language_info": {
   "codemirror_mode": {
    "name": "ipython",
    "version": 3
   },
   "file_extension": ".py",
   "mimetype": "text/x-python",
   "name": "python",
   "nbconvert_exporter": "python",
   "pygments_lexer": "ipython3",
   "version": "3.8.10"
  }
 },
 "nbformat": 4,
 "nbformat_minor": 2
}
